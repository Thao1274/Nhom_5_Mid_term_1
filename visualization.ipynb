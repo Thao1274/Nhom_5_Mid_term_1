{
 "cells": [
  {
   "cell_type": "code",
   "execution_count": 5,
   "id": "185012e7",
   "metadata": {},
   "outputs": [
    {
     "name": "stdout",
     "output_type": "stream",
     "text": [
      "           Mã order Thu ngân            Ngày bán    Tổng  Ngày/tháng/năm sinh  \\\n",
      "0  10006052019B0225   emp002  2019-05-06 00:00:00  90000  1999-04-18 00:00:00   \n",
      "1  10006052019B0225   emp002  2019-05-06 00:00:00  90000  1999-04-18 00:00:00   \n",
      "2  10022052019B0167   emp011  2019-05-22 00:00:00  90000  1998-04-16 00:00:00   \n",
      "3  10022052019B0167   emp011  2019-05-22 00:00:00  90000  1998-04-16 00:00:00   \n",
      "4  10130052019B0141   emp005  2019-05-30 00:00:00  90000  1998-04-16 00:00:00   \n",
      "\n",
      "  Tuổi Giới Tính Quận/Huyện     Tỉnh  Công việc  ...  \\\n",
      "0   20        Nữ  Thanh Khê  Đà Nẵng  Sinh viên  ...   \n",
      "1   20        Nữ  Thanh Khê  Đà Nẵng  Sinh viên  ...   \n",
      "2   21       Nam    Sơn Trà  Đà Nẵng  Sinh viên  ...   \n",
      "3   21       Nam    Sơn Trà  Đà Nẵng  Sinh viên  ...   \n",
      "4   21       Nam    Sơn Trà  Đà Nẵng  Sinh viên  ...   \n",
      "\n",
      "                                      Phim Mã phim  Đất nước  \\\n",
      "0                        Avengers: Hồi Kết    s966    Hoa Kỳ   \n",
      "1                        Avengers: Hồi Kết    s966    Hoa Kỳ   \n",
      "2  John Wick 3: Chuẩn Bị Chiến Tranh (C18)   s1231    Hoa Kỳ   \n",
      "3  John Wick 3: Chuẩn Bị Chiến Tranh (C18)   s1231    Hoa Kỳ   \n",
      "4                   Ngôi Đền Kỳ Quái (C18)   s1232  Thái Lan   \n",
      "\n",
      "                                     Thể loại phim Phân loại phim  \\\n",
      "0  Hành động phiêu lưu, Kỳ ảo, Khoa học viễn tưởng            C13   \n",
      "1  Hành động phiêu lưu, Kỳ ảo, Khoa học viễn tưởng            C13   \n",
      "2                                        Hành động            C18   \n",
      "3                                        Hành động            C18   \n",
      "4                                Hài kịch, Kinh dị            C18   \n",
      "\n",
      "  Thời lượng phim  Thể loại chỗ Thể loại vé Giá vé Bỏng ngô  \n",
      "0             183           Đơn  Thành viên  45000    Không  \n",
      "1             183           Đơn  Thành viên  45000    Không  \n",
      "2             131           Đơn  Thành viên  45000    Không  \n",
      "3             131           Đơn  Thành viên  45000    Không  \n",
      "4             108           Đơn  Thành viên  45000    Không  \n",
      "\n",
      "[5 rows x 27 columns]\n"
     ]
    }
   ],
   "source": [
    "import pandas as pd\n",
    "\n",
    "path = r\"G:\\NEU\\BIG DATA\\MID\\final_dataset.xlsx\"\n",
    "final_dataset = pd.read_excel(path, engine='openpyxl')\n",
    "\n",
    "print(final_dataset.head())\n"
   ]
  },
  {
   "cell_type": "code",
   "execution_count": 9,
   "id": "b5b82d13",
   "metadata": {},
   "outputs": [
    {
     "name": "stdout",
     "output_type": "stream",
     "text": [
      "Index(['Mã order', 'Thu ngân', 'Ngày bán ', 'Tổng', 'Ngày/tháng/năm sinh',\n",
      "       'Tuổi', 'Giới Tính', 'Quận/Huyện', 'Tỉnh', 'Công việc', 'Lĩnh vực',\n",
      "       'Mã khách hàng', 'Mã vé', 'Ngày', 'Thời gian', 'Chỗ ngồi', 'Phòng',\n",
      "       'Phim', 'Mã phim', 'Đất nước', 'Thể loại phim', 'Phân loại phim',\n",
      "       'Thời lượng phim', 'Thể loại chỗ', 'Thể loại vé', 'Giá vé', 'Bỏng ngô'],\n",
      "      dtype='object')\n"
     ]
    }
   ],
   "source": [
    "print(final_dataset.columns)"
   ]
  },
  {
   "cell_type": "code",
   "execution_count": 13,
   "id": "b0762224",
   "metadata": {},
   "outputs": [
    {
     "name": "stdout",
     "output_type": "stream",
     "text": [
      "               Mã order Thu ngân            Ngày bán     Tổng  \\\n",
      "0      10006052019B0225   emp002  2019-05-06 00:00:00   90000   \n",
      "1      10006052019B0225   emp002  2019-05-06 00:00:00   90000   \n",
      "2      10022052019B0167   emp011  2019-05-22 00:00:00   90000   \n",
      "3      10022052019B0167   emp011  2019-05-22 00:00:00   90000   \n",
      "4      10130052019B0141   emp005  2019-05-30 00:00:00   90000   \n",
      "...                 ...      ...                  ...     ...   \n",
      "35469  10130052019B0192   emp005  2019-05-30 00:00:00  180000   \n",
      "35470  10130052019B0192   emp005  2019-05-30 00:00:00  180000   \n",
      "35471  10130052019B0192   emp005  2019-05-30 00:00:00  180000   \n",
      "35472  12508052019B0036   emp007  2019-05-08 00:00:00   90000   \n",
      "35473  12508052019B0036   emp007  2019-05-08 00:00:00   90000   \n",
      "\n",
      "       Ngày/tháng/năm sinh Tuổi Giới Tính    Quận/Huyện     Tỉnh  \\\n",
      "0      1999-04-18 00:00:00   20        Nữ     Thanh Khê  Đà Nẵng   \n",
      "1      1999-04-18 00:00:00   20        Nữ     Thanh Khê  Đà Nẵng   \n",
      "2      1998-04-16 00:00:00   21       Nam       Sơn Trà  Đà Nẵng   \n",
      "3      1998-04-16 00:00:00   21       Nam       Sơn Trà  Đà Nẵng   \n",
      "4      1998-04-16 00:00:00   21       Nam       Sơn Trà  Đà Nẵng   \n",
      "...                    ...  ...       ...           ...      ...   \n",
      "35469  1996-09-08 00:00:00   22        Nữ  Ngũ Hành Sơn  Đà Nẵng   \n",
      "35470  1996-09-08 00:00:00   22        Nữ  Ngũ Hành Sơn  Đà Nẵng   \n",
      "35471  1996-09-08 00:00:00   22        Nữ  Ngũ Hành Sơn  Đà Nẵng   \n",
      "35472  2002-04-26 00:00:00   17        Nữ     Thanh Khê  Đà Nẵng   \n",
      "35473  2002-04-26 00:00:00   17        Nữ     Thanh Khê  Đà Nẵng   \n",
      "\n",
      "               Công việc  ... Mã phim  Đất nước  \\\n",
      "0              Sinh viên  ...    s966    Hoa Kỳ   \n",
      "1              Sinh viên  ...    s966    Hoa Kỳ   \n",
      "2              Sinh viên  ...   s1231    Hoa Kỳ   \n",
      "3              Sinh viên  ...   s1231    Hoa Kỳ   \n",
      "4              Sinh viên  ...   s1232  Thái Lan   \n",
      "...                  ...  ...     ...       ...   \n",
      "35469  Lao động tay chân  ...   s1239    Hoa Kỳ   \n",
      "35470  Lao động tay chân  ...   s1239    Hoa Kỳ   \n",
      "35471  Lao động tay chân  ...   s1239    Hoa Kỳ   \n",
      "35472           Học sinh  ...    s966    Hoa Kỳ   \n",
      "35473           Học sinh  ...    s966    Hoa Kỳ   \n",
      "\n",
      "                                         Thể loại phim Phân loại phim  \\\n",
      "0      Hành động phiêu lưu, Kỳ ảo, Khoa học viễn tưởng            C13   \n",
      "1      Hành động phiêu lưu, Kỳ ảo, Khoa học viễn tưởng            C13   \n",
      "2                                            Hành động            C18   \n",
      "3                                            Hành động            C18   \n",
      "4                                    Hài kịch, Kinh dị            C18   \n",
      "...                                                ...            ...   \n",
      "35469                  Hành động, Phiêu lưu, Giả tưởng            C13   \n",
      "35470                  Hành động, Phiêu lưu, Giả tưởng            C13   \n",
      "35471                  Hành động, Phiêu lưu, Giả tưởng            C13   \n",
      "35472  Hành động phiêu lưu, Kỳ ảo, Khoa học viễn tưởng            C13   \n",
      "35473  Hành động phiêu lưu, Kỳ ảo, Khoa học viễn tưởng            C13   \n",
      "\n",
      "      Thời lượng phim Thể loại chỗ  Thể loại vé Giá vé Bỏng ngô        Thứ  \n",
      "0                 183          Đơn   Thành viên  45000    Không     Monday  \n",
      "1                 183          Đơn   Thành viên  45000    Không     Monday  \n",
      "2                 131          Đơn   Thành viên  45000    Không  Wednesday  \n",
      "3                 131          Đơn   Thành viên  45000    Không  Wednesday  \n",
      "4                 108          Đơn   Thành viên  45000    Không   Thursday  \n",
      "...               ...          ...          ...    ...      ...        ...  \n",
      "35469             135          Đơn   Thành viên  45000    Không   Thursday  \n",
      "35470             135          Đơn   Thành viên  45000    Không   Thursday  \n",
      "35471             135          Đơn   Thành viên  45000    Không   Thursday  \n",
      "35472             183          Đơn   Thành viên  45000    Không  Wednesday  \n",
      "35473             183          Đơn   Thành viên  45000    Không  Wednesday  \n",
      "\n",
      "[35474 rows x 28 columns]\n"
     ]
    }
   ],
   "source": [
    "# Chuyển thành datetime\n",
    "final_dataset['Ngày'] = pd.to_datetime(final_dataset['Ngày'])\n",
    "\n",
    "# Lấy tên thứ\n",
    "final_dataset['Thứ'] = final_dataset['Ngày'].dt.day_name()\n",
    "print(final_dataset)"
   ]
  }
 ],
 "metadata": {
  "kernelspec": {
   "display_name": "base",
   "language": "python",
   "name": "python3"
  },
  "language_info": {
   "codemirror_mode": {
    "name": "ipython",
    "version": 3
   },
   "file_extension": ".py",
   "mimetype": "text/x-python",
   "name": "python",
   "nbconvert_exporter": "python",
   "pygments_lexer": "ipython3",
   "version": "3.12.4"
  }
 },
 "nbformat": 4,
 "nbformat_minor": 5
}
