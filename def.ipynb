{
 "cells": [
  {
   "cell_type": "code",
   "execution_count": 3,
   "metadata": {},
   "outputs": [
    {
     "name": "stdout",
     "output_type": "stream",
     "text": [
      "so nguyen\n"
     ]
    }
   ],
   "source": [
    "def songuyen(x):\n",
    "    if x%2 ==0:\n",
    "        return \"so nguyen\"\n",
    "print(songuyen(4))"
   ]
  },
  {
   "cell_type": "code",
   "execution_count": 9,
   "metadata": {},
   "outputs": [
    {
     "name": "stdout",
     "output_type": "stream",
     "text": [
      "{'location': 'princetion', 'first': 'albert', 'last': 'einstein'}\n"
     ]
    }
   ],
   "source": [
    "# Cho phép \n",
    "# * coi như list\n",
    "# ** coi nhiw dictionary\n",
    "def bulid_profile(first, last, **user_info):\n",
    "    \"\"\"Bulid a dictionary for a user.\"\"\"\n",
    "    user_info['first'] = first\n",
    "    user_info['last'] = last\n",
    "    return user_info\n",
    "user_0 = bulid_profile('albert','einstein',location = 'princetion')\n",
    "print(user_0)"
   ]
  },
  {
   "cell_type": "code",
   "execution_count": 19,
   "metadata": {},
   "outputs": [
    {
     "name": "stdout",
     "output_type": "stream",
     "text": [
      "None\n"
     ]
    }
   ],
   "source": [
    "def songuyento(*n):\n",
    "    songuyeto = []\n",
    "    for num in n:\n",
    "        if num <= 1:\n",
    "            continue\n",
    "        for d in range(2,int(num**0.5)+1):\n",
    "            if num%d==0:\n",
    "                continue\n",
    "            else:\n",
    "                return songuyeto.append(num)\n",
    "    return songuyeto\n",
    "a = songuyento(1,2,3,4,5)\n",
    "print(a)\n",
    "\n",
    "        "
   ]
  },
  {
   "cell_type": "code",
   "execution_count": null,
   "metadata": {},
   "outputs": [
    {
     "name": "stdout",
     "output_type": "stream",
     "text": [
      "Pham Thao\n"
     ]
    }
   ],
   "source": [
    "def name(first_name, last_name):\n",
    "    \"\"\" Return a full name\"\"\"\n",
    "    full_name = f'{first_name} {last_name}'\n",
    "    return full_name.title()# chuyển về viết hoa chữ cái đầu\n",
    "student =name('pham','thao')\n",
    "print(student)\n",
    "\n"
   ]
  },
  {
   "cell_type": "code",
   "execution_count": 3,
   "metadata": {},
   "outputs": [
    {
     "name": "stdout",
     "output_type": "stream",
     "text": [
      "Pham Thi Thao\n"
     ]
    }
   ],
   "source": [
    "# Tương tự với 3 đối số \n",
    "def name(first_name,middle_name, last_name):\n",
    "    \"\"\" Return a full name\"\"\"\n",
    "    full_name = f'{first_name} {middle_name} {last_name}'\n",
    "    return full_name.title()# chuyển về viết hoa chữ cái đầu\n",
    "student =name('pham','thi','thao')\n",
    "print(student)\n"
   ]
  },
  {
   "cell_type": "code",
   "execution_count": 7,
   "metadata": {},
   "outputs": [
    {
     "name": "stdout",
     "output_type": "stream",
     "text": [
      "Pham Thao \n",
      "Pham Thi Thao\n"
     ]
    }
   ],
   "source": [
    "# Nếu đưa vào bất kì và in ra tuỳ chọn \n",
    "#middle_name có thể có hoặc không\n",
    "def name(first_name,middle_name = '',last_name=''):\n",
    "    if middle_name:\n",
    "        full_name = f'{first_name} {middle_name} {last_name}'\n",
    "    else:\n",
    "        full_name = f'{first_name} {last_name}'\n",
    "    return full_name.title()\n",
    "student =name('pham','thao')\n",
    "print(student)\n",
    "student_1 =name('pham','thi','thao')\n",
    "print(student_1)"
   ]
  },
  {
   "cell_type": "code",
   "execution_count": 8,
   "metadata": {},
   "outputs": [
    {
     "name": "stdout",
     "output_type": "stream",
     "text": [
      "{'first': 'pham', 'last': 'thao'}\n"
     ]
    }
   ],
   "source": [
    "# Returning a Dictionary\n",
    "def name(firsT_name,last_name):\n",
    "    person = {'first':firsT_name, 'last':last_name}\n",
    "    return person\n",
    "student = name('pham','thao')\n",
    "print(student)"
   ]
  },
  {
   "cell_type": "code",
   "execution_count": null,
   "metadata": {},
   "outputs": [
    {
     "name": "stdout",
     "output_type": "stream",
     "text": [
      "\n",
      "Plaese tell me your name:\n",
      "(Enter 'q' at anytime to quit)\n",
      "An Ng\n"
     ]
    }
   ],
   "source": [
    "# Kết hợp vòng lặp while\n",
    "def name(first_name,last_name):\n",
    "    full_name = f'{first_name} {last_name}'\n",
    "    return full_name.title()\n",
    "# Dùng vòng lặp while True để lấp đầu vào từ người dùng\n",
    "# Vòng lặp while True chạy mãi cho đến khi gặp lệnh break\n",
    "# enter q: Hướng dẫn nhập q để thoát\n",
    "x = 1\n",
    "while x:\n",
    "    print('\\nPlaese tell me your name:')\n",
    "    print(\"(Enter 'q' at anytime to quit)\")\n",
    "    f_name = input('First name: ')\n",
    "    if f_name == 'q':\n",
    "        break\n",
    "    l_name = input('Last name: ')\n",
    "    if l_name == 'q':\n",
    "        break\n",
    "    x-=1\n",
    "student = name(f_name,l_name)\n",
    "print(student)"
   ]
  },
  {
   "cell_type": "code",
   "execution_count": 26,
   "metadata": {},
   "outputs": [
    {
     "name": "stdout",
     "output_type": "stream",
     "text": [
      "Santiago, Chile\n"
     ]
    }
   ],
   "source": [
    "def city_country(city,country):\n",
    "    full_name = f'{city}, {country}'\n",
    "    return full_name\n",
    "while True:\n",
    "    f_city = input('City: ').strip()\n",
    "    if f_city.lower() == 'a':\n",
    "        break\n",
    "    f_country = input('Country: ').strip()\n",
    "    if f_country.lower() == 'a':\n",
    "        break\n",
    "    \n",
    "    name = city_country(f_city,f_country)\n",
    "    print(name)"
   ]
  },
  {
   "cell_type": "code",
   "execution_count": 1,
   "metadata": {},
   "outputs": [
    {
     "name": "stdout",
     "output_type": "stream",
     "text": [
      "{'Artist name': 'Santiago', 'Album name': 'chile'}\n"
     ]
    }
   ],
   "source": [
    "def make_album(artist_name, album_title):\n",
    "    full = {'Artist name':artist_name,'Album name':album_title}\n",
    "    return full\n",
    "while True:\n",
    "    f_artist = input('Artist name: ')\n",
    "    if f_artist == 'q':\n",
    "        break\n",
    "    f_album = input('Album title: ')\n",
    "    if f_album == 'q':\n",
    "        break\n",
    "    name = make_album(f_artist,f_album)\n",
    "    print(name)\n"
   ]
  },
  {
   "cell_type": "code",
   "execution_count": 2,
   "metadata": {},
   "outputs": [
    {
     "name": "stdout",
     "output_type": "stream",
     "text": [
      "Hello, Hannah!\n",
      "Hello, Ty!\n",
      "Hello, Margot!\n"
     ]
    }
   ],
   "source": [
    "# Passing a List\n",
    "def greet_users(names):\n",
    "    for name in names:\n",
    "        msg = f\"Hello, {name.title()}!\"\n",
    "        print(msg)\n",
    "usernames = ['hannah', 'ty', 'margot']\n",
    "greet_users(usernames)"
   ]
  },
  {
   "cell_type": "code",
   "execution_count": 4,
   "metadata": {},
   "outputs": [
    {
     "name": "stdout",
     "output_type": "stream",
     "text": [
      "mes: Hello.\n",
      "mes: Hi.\n"
     ]
    }
   ],
   "source": [
    "def show_message(texts):\n",
    "    for text in texts:\n",
    "        a = f'mes: {text.title()}.'\n",
    "        print(a)\n",
    "b = ['hello','hi']\n",
    "show_message(b)"
   ]
  }
 ],
 "metadata": {
  "kernelspec": {
   "display_name": "Python 3",
   "language": "python",
   "name": "python3"
  },
  "language_info": {
   "codemirror_mode": {
    "name": "ipython",
    "version": 3
   },
   "file_extension": ".py",
   "mimetype": "text/x-python",
   "name": "python",
   "nbconvert_exporter": "python",
   "pygments_lexer": "ipython3",
   "version": "3.12.4"
  }
 },
 "nbformat": 4,
 "nbformat_minor": 2
}
