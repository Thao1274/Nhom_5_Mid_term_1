{
 "cells": [
  {
   "cell_type": "code",
   "execution_count": 10,
   "id": "cb43d0b8",
   "metadata": {},
   "outputs": [],
   "source": [
    "import pandas as pd\n",
    "import numpy as np\n",
    "import datetime as dt\n",
    "import matplotlib.pyplot as plt\n",
    "import seaborn as sns\n",
    "import pyspark"
   ]
  },
  {
   "cell_type": "code",
   "execution_count": 11,
   "id": "bea7fd71",
   "metadata": {},
   "outputs": [],
   "source": [
    "bank = pd.read_csv(\"C:/Users/DO PHUONG DUNG/OneDrive - National Economics University/Desktop/cleaned_data.csv\")"
   ]
  },
  {
   "cell_type": "markdown",
   "id": "0c99dd8c",
   "metadata": {},
   "source": [
    "🔍 Vấn đề đang được giải quyết:\n",
    "__Một ngân hàng tại Bồ Đào Nha__ đang chuẩn bị tung ra __sản phẩm tiền gửi có kỳ hạn (term deposit)__ và muốn tìm cách __liên hệ đúng người, đúng nhu cầu__. Trong quá khứ, họ đã gọi điện cho hàng loạt khách hàng và có lưu lại kết quả xem ai đã đăng ký sản phẩm sau cuộc gọi, ai thì không.\n",
    "\n",
    "Tuy nhiên, hiện tại có 2 vấn đề lớn:\n",
    "\n",
    "__1. Khách hàng than phiền__: Họ bị gọi làm phiền vì những sản phẩm họ không quan tâm → ảnh hưởng hình ảnh ngân hàng.\n",
    "\n",
    "__2. Không có hệ thống lựa chọn khách hàng tiềm năng__: Hiện tại nhân viên chọn khách hàng một cách thủ công, không hiệu quả."
   ]
  },
  {
   "cell_type": "markdown",
   "id": "d852633b",
   "metadata": {},
   "source": [
    "✅ Mục tiêu dự án:\n",
    "__Xây dựng một mô hình học máy (machine learning model)__ dựa trên dữ liệu lịch sử, để dự đoán xem __khách hàng nào nên được gọi điện (có khả năng cao sẽ đăng ký tiền gửi kỳ hạn)__ và __khách nào nên bỏ qua__.\n",
    "\n",
    "Kết quả mong muốn:\n",
    "– Mô hình sẽ đưa ra dự đoán \"yes\"/\"no\" cho từng khách hàng trong dữ liệu test: <br>\n",
    "→ __\"yes\"__ nghĩa là __nên gọi, có thể họ sẽ mua sản phẩm__ <br>\n",
    "→ __\"no\"__ nghĩa là __không nên gọi, tránh làm phiền__"
   ]
  },
  {
   "cell_type": "markdown",
   "id": "d04ad8dc",
   "metadata": {},
   "source": [
    "__Thông tin về khách hàng ngân hàng__\n",
    "\n",
    "- **`age`**: Tuổi\n",
    "- **`job`**: Loại công việc\n",
    "- **`marital`**: Tình trạng hôn nhân  \n",
    "  *(Lưu ý: `\"divorced\"` bao gồm cả ly hôn và góa)*\n",
    "- **`education`**: Trình độ học vấn\n",
    "- **`default`**: Có từng không trả được khoản vay nào trước đây không?\n",
    "- **`balance`**: Số dư trung bình hàng năm (euro)\n",
    "- **`housing`**: Có vay thế chấp không?\n",
    "- **`loan`**: Có khoản vay tín chấp không?\n",
    "\n",
    "\n",
    "__Liên quan đến lần liên lạc cuối cùng với khách hàng trong chiến dịch hiện tại__\n",
    "\n",
    "- **`contact`**: Loại hình liên lạc trong lần cuối cùng\n",
    "- **`day`**: Ngày của lần liên lạc cuối cùng\n",
    "- **`month`**: Tháng của lần liên lạc cuối cùng\n",
    "- **`duration`**: Thời lượng cuộc gọi cuối cùng (tính bằng giây)\n",
    "\n",
    "---\n",
    "\n",
    "__Các thuộc tính khác__\n",
    "\n",
    "- **`campaign`**: Số lần liên hệ trong chiến dịch hiện tại (bao gồm cả lần cuối)\n",
    "- **`pdays`**: Số ngày kể từ lần cuối được liên hệ trong chiến dịch trước  \n",
    "  *(Giá trị -1 nghĩa là chưa từng được liên hệ)*\n",
    "- **`previous`**: Số lần liên hệ trước đây trong các chiến dịch trước đó\n",
    "- **`poutcome`**: Kết quả của chiến dịch marketing trước\n",
    "\n",
    "---\n",
    "\n",
    "__Biến mục tiêu (target)__\n",
    "\n",
    "- **`y`**: Khách hàng có đăng ký gửi tiết kiệm kỳ hạn hay không?"
   ]
  },
  {
   "cell_type": "code",
   "execution_count": 12,
   "id": "411984a5",
   "metadata": {},
   "outputs": [
    {
     "data": {
      "text/html": [
       "<div>\n",
       "<style scoped>\n",
       "    .dataframe tbody tr th:only-of-type {\n",
       "        vertical-align: middle;\n",
       "    }\n",
       "\n",
       "    .dataframe tbody tr th {\n",
       "        vertical-align: top;\n",
       "    }\n",
       "\n",
       "    .dataframe thead th {\n",
       "        text-align: right;\n",
       "    }\n",
       "</style>\n",
       "<table border=\"1\" class=\"dataframe\">\n",
       "  <thead>\n",
       "    <tr style=\"text-align: right;\">\n",
       "      <th></th>\n",
       "      <th>age</th>\n",
       "      <th>job</th>\n",
       "      <th>marital</th>\n",
       "      <th>education</th>\n",
       "      <th>default</th>\n",
       "      <th>balance</th>\n",
       "      <th>housing</th>\n",
       "      <th>loan</th>\n",
       "      <th>contact</th>\n",
       "      <th>day</th>\n",
       "      <th>month</th>\n",
       "      <th>duration</th>\n",
       "      <th>campaign</th>\n",
       "      <th>pdays</th>\n",
       "      <th>previous</th>\n",
       "      <th>poutcome</th>\n",
       "      <th>y</th>\n",
       "    </tr>\n",
       "  </thead>\n",
       "  <tbody>\n",
       "    <tr>\n",
       "      <th>0</th>\n",
       "      <td>58</td>\n",
       "      <td>management</td>\n",
       "      <td>married</td>\n",
       "      <td>tertiary</td>\n",
       "      <td>no</td>\n",
       "      <td>2143</td>\n",
       "      <td>yes</td>\n",
       "      <td>no</td>\n",
       "      <td>cellular</td>\n",
       "      <td>5</td>\n",
       "      <td>may</td>\n",
       "      <td>261</td>\n",
       "      <td>1</td>\n",
       "      <td>-1</td>\n",
       "      <td>0</td>\n",
       "      <td>0</td>\n",
       "      <td>no</td>\n",
       "    </tr>\n",
       "    <tr>\n",
       "      <th>1</th>\n",
       "      <td>44</td>\n",
       "      <td>technician</td>\n",
       "      <td>single</td>\n",
       "      <td>secondary</td>\n",
       "      <td>no</td>\n",
       "      <td>29</td>\n",
       "      <td>yes</td>\n",
       "      <td>no</td>\n",
       "      <td>cellular</td>\n",
       "      <td>5</td>\n",
       "      <td>may</td>\n",
       "      <td>151</td>\n",
       "      <td>1</td>\n",
       "      <td>-1</td>\n",
       "      <td>0</td>\n",
       "      <td>0</td>\n",
       "      <td>no</td>\n",
       "    </tr>\n",
       "    <tr>\n",
       "      <th>2</th>\n",
       "      <td>33</td>\n",
       "      <td>entrepreneur</td>\n",
       "      <td>married</td>\n",
       "      <td>secondary</td>\n",
       "      <td>no</td>\n",
       "      <td>2</td>\n",
       "      <td>yes</td>\n",
       "      <td>yes</td>\n",
       "      <td>cellular</td>\n",
       "      <td>5</td>\n",
       "      <td>may</td>\n",
       "      <td>76</td>\n",
       "      <td>1</td>\n",
       "      <td>-1</td>\n",
       "      <td>0</td>\n",
       "      <td>0</td>\n",
       "      <td>no</td>\n",
       "    </tr>\n",
       "    <tr>\n",
       "      <th>3</th>\n",
       "      <td>47</td>\n",
       "      <td>blue-collar</td>\n",
       "      <td>married</td>\n",
       "      <td>secondary</td>\n",
       "      <td>no</td>\n",
       "      <td>1506</td>\n",
       "      <td>yes</td>\n",
       "      <td>no</td>\n",
       "      <td>cellular</td>\n",
       "      <td>5</td>\n",
       "      <td>may</td>\n",
       "      <td>92</td>\n",
       "      <td>1</td>\n",
       "      <td>-1</td>\n",
       "      <td>0</td>\n",
       "      <td>0</td>\n",
       "      <td>no</td>\n",
       "    </tr>\n",
       "    <tr>\n",
       "      <th>4</th>\n",
       "      <td>33</td>\n",
       "      <td>blue-collar</td>\n",
       "      <td>single</td>\n",
       "      <td>secondary</td>\n",
       "      <td>no</td>\n",
       "      <td>1</td>\n",
       "      <td>no</td>\n",
       "      <td>no</td>\n",
       "      <td>cellular</td>\n",
       "      <td>5</td>\n",
       "      <td>may</td>\n",
       "      <td>198</td>\n",
       "      <td>1</td>\n",
       "      <td>-1</td>\n",
       "      <td>0</td>\n",
       "      <td>0</td>\n",
       "      <td>no</td>\n",
       "    </tr>\n",
       "    <tr>\n",
       "      <th>5</th>\n",
       "      <td>35</td>\n",
       "      <td>management</td>\n",
       "      <td>married</td>\n",
       "      <td>tertiary</td>\n",
       "      <td>no</td>\n",
       "      <td>231</td>\n",
       "      <td>yes</td>\n",
       "      <td>no</td>\n",
       "      <td>cellular</td>\n",
       "      <td>5</td>\n",
       "      <td>may</td>\n",
       "      <td>139</td>\n",
       "      <td>1</td>\n",
       "      <td>-1</td>\n",
       "      <td>0</td>\n",
       "      <td>0</td>\n",
       "      <td>no</td>\n",
       "    </tr>\n",
       "    <tr>\n",
       "      <th>6</th>\n",
       "      <td>28</td>\n",
       "      <td>management</td>\n",
       "      <td>single</td>\n",
       "      <td>tertiary</td>\n",
       "      <td>no</td>\n",
       "      <td>447</td>\n",
       "      <td>yes</td>\n",
       "      <td>yes</td>\n",
       "      <td>cellular</td>\n",
       "      <td>5</td>\n",
       "      <td>may</td>\n",
       "      <td>217</td>\n",
       "      <td>1</td>\n",
       "      <td>-1</td>\n",
       "      <td>0</td>\n",
       "      <td>0</td>\n",
       "      <td>no</td>\n",
       "    </tr>\n",
       "    <tr>\n",
       "      <th>7</th>\n",
       "      <td>42</td>\n",
       "      <td>entrepreneur</td>\n",
       "      <td>divorced</td>\n",
       "      <td>tertiary</td>\n",
       "      <td>yes</td>\n",
       "      <td>2</td>\n",
       "      <td>yes</td>\n",
       "      <td>no</td>\n",
       "      <td>cellular</td>\n",
       "      <td>5</td>\n",
       "      <td>may</td>\n",
       "      <td>380</td>\n",
       "      <td>1</td>\n",
       "      <td>-1</td>\n",
       "      <td>0</td>\n",
       "      <td>0</td>\n",
       "      <td>no</td>\n",
       "    </tr>\n",
       "    <tr>\n",
       "      <th>8</th>\n",
       "      <td>58</td>\n",
       "      <td>retired</td>\n",
       "      <td>married</td>\n",
       "      <td>primary</td>\n",
       "      <td>no</td>\n",
       "      <td>121</td>\n",
       "      <td>yes</td>\n",
       "      <td>no</td>\n",
       "      <td>cellular</td>\n",
       "      <td>5</td>\n",
       "      <td>may</td>\n",
       "      <td>50</td>\n",
       "      <td>1</td>\n",
       "      <td>-1</td>\n",
       "      <td>0</td>\n",
       "      <td>0</td>\n",
       "      <td>no</td>\n",
       "    </tr>\n",
       "    <tr>\n",
       "      <th>9</th>\n",
       "      <td>43</td>\n",
       "      <td>technician</td>\n",
       "      <td>single</td>\n",
       "      <td>secondary</td>\n",
       "      <td>no</td>\n",
       "      <td>593</td>\n",
       "      <td>yes</td>\n",
       "      <td>no</td>\n",
       "      <td>cellular</td>\n",
       "      <td>5</td>\n",
       "      <td>may</td>\n",
       "      <td>55</td>\n",
       "      <td>1</td>\n",
       "      <td>-1</td>\n",
       "      <td>0</td>\n",
       "      <td>0</td>\n",
       "      <td>no</td>\n",
       "    </tr>\n",
       "  </tbody>\n",
       "</table>\n",
       "</div>"
      ],
      "text/plain": [
       "   age           job   marital  education default  balance housing loan  \\\n",
       "0   58    management   married   tertiary      no     2143     yes   no   \n",
       "1   44    technician    single  secondary      no       29     yes   no   \n",
       "2   33  entrepreneur   married  secondary      no        2     yes  yes   \n",
       "3   47   blue-collar   married  secondary      no     1506     yes   no   \n",
       "4   33   blue-collar    single  secondary      no        1      no   no   \n",
       "5   35    management   married   tertiary      no      231     yes   no   \n",
       "6   28    management    single   tertiary      no      447     yes  yes   \n",
       "7   42  entrepreneur  divorced   tertiary     yes        2     yes   no   \n",
       "8   58       retired   married    primary      no      121     yes   no   \n",
       "9   43    technician    single  secondary      no      593     yes   no   \n",
       "\n",
       "    contact  day month  duration  campaign  pdays  previous  poutcome   y  \n",
       "0  cellular    5   may       261         1     -1         0         0  no  \n",
       "1  cellular    5   may       151         1     -1         0         0  no  \n",
       "2  cellular    5   may        76         1     -1         0         0  no  \n",
       "3  cellular    5   may        92         1     -1         0         0  no  \n",
       "4  cellular    5   may       198         1     -1         0         0  no  \n",
       "5  cellular    5   may       139         1     -1         0         0  no  \n",
       "6  cellular    5   may       217         1     -1         0         0  no  \n",
       "7  cellular    5   may       380         1     -1         0         0  no  \n",
       "8  cellular    5   may        50         1     -1         0         0  no  \n",
       "9  cellular    5   may        55         1     -1         0         0  no  "
      ]
     },
     "execution_count": 12,
     "metadata": {},
     "output_type": "execute_result"
    }
   ],
   "source": [
    "bank.head(10)"
   ]
  },
  {
   "cell_type": "markdown",
   "id": "4799c67f",
   "metadata": {},
   "source": [
    "#### Feature Engineering"
   ]
  },
  {
   "cell_type": "markdown",
   "id": "64ebebd6",
   "metadata": {},
   "source": [
    "tạo bin cho balance"
   ]
  },
  {
   "cell_type": "code",
   "execution_count": 13,
   "id": "f76ea697",
   "metadata": {},
   "outputs": [
    {
     "ename": "PySparkRuntimeError",
     "evalue": "[JAVA_GATEWAY_EXITED] Java gateway process exited before sending its port number.",
     "output_type": "error",
     "traceback": [
      "\u001b[1;31m---------------------------------------------------------------------------\u001b[0m",
      "\u001b[1;31mPySparkRuntimeError\u001b[0m                       Traceback (most recent call last)",
      "Cell \u001b[1;32mIn[13], line 5\u001b[0m\n\u001b[0;32m      2\u001b[0m \u001b[38;5;28;01mfrom\u001b[39;00m\u001b[38;5;250m \u001b[39m\u001b[38;5;21;01mpyspark\u001b[39;00m\u001b[38;5;21;01m.\u001b[39;00m\u001b[38;5;21;01msql\u001b[39;00m\u001b[38;5;21;01m.\u001b[39;00m\u001b[38;5;21;01mfunctions\u001b[39;00m\u001b[38;5;250m \u001b[39m\u001b[38;5;28;01mimport\u001b[39;00m when, col\n\u001b[0;32m      4\u001b[0m \u001b[38;5;66;03m# Khởi tạo session nếu chưa có\u001b[39;00m\n\u001b[1;32m----> 5\u001b[0m spark \u001b[38;5;241m=\u001b[39m \u001b[43mSparkSession\u001b[49m\u001b[38;5;241;43m.\u001b[39;49m\u001b[43mbuilder\u001b[49m\u001b[38;5;241;43m.\u001b[39;49m\u001b[43mappName\u001b[49m\u001b[43m(\u001b[49m\u001b[38;5;124;43m\"\u001b[39;49m\u001b[38;5;124;43mFeatureBalance\u001b[39;49m\u001b[38;5;124;43m\"\u001b[39;49m\u001b[43m)\u001b[49m\u001b[38;5;241;43m.\u001b[39;49m\u001b[43mgetOrCreate\u001b[49m\u001b[43m(\u001b[49m\u001b[43m)\u001b[49m\n\u001b[0;32m      7\u001b[0m \u001b[38;5;66;03m# Load data nếu cần\u001b[39;00m\n\u001b[0;32m      8\u001b[0m bank \u001b[38;5;241m=\u001b[39m spark\u001b[38;5;241m.\u001b[39mread\u001b[38;5;241m.\u001b[39mcsv(\u001b[38;5;124mr\u001b[39m\u001b[38;5;124m\"\u001b[39m\u001b[38;5;124mC:\u001b[39m\u001b[38;5;124m\\\u001b[39m\u001b[38;5;124mUsers\u001b[39m\u001b[38;5;124m\\\u001b[39m\u001b[38;5;124mNgoc Minh\u001b[39m\u001b[38;5;124m\\\u001b[39m\u001b[38;5;124mDownloads\u001b[39m\u001b[38;5;124m\\\u001b[39m\u001b[38;5;124mpython course\u001b[39m\u001b[38;5;124m\\\u001b[39m\u001b[38;5;124mcleaned_data.csv\u001b[39m\u001b[38;5;124m\"\u001b[39m, header\u001b[38;5;241m=\u001b[39m\u001b[38;5;28;01mTrue\u001b[39;00m, inferSchema\u001b[38;5;241m=\u001b[39m\u001b[38;5;28;01mTrue\u001b[39;00m)\n",
      "File \u001b[1;32mc:\\Users\\DO PHUONG DUNG\\AppData\\Local\\Programs\\Python\\Python313\\Lib\\site-packages\\pyspark\\sql\\session.py:497\u001b[0m, in \u001b[0;36mSparkSession.Builder.getOrCreate\u001b[1;34m(self)\u001b[0m\n\u001b[0;32m    495\u001b[0m     sparkConf\u001b[38;5;241m.\u001b[39mset(key, value)\n\u001b[0;32m    496\u001b[0m \u001b[38;5;66;03m# This SparkContext may be an existing one.\u001b[39;00m\n\u001b[1;32m--> 497\u001b[0m sc \u001b[38;5;241m=\u001b[39m \u001b[43mSparkContext\u001b[49m\u001b[38;5;241;43m.\u001b[39;49m\u001b[43mgetOrCreate\u001b[49m\u001b[43m(\u001b[49m\u001b[43msparkConf\u001b[49m\u001b[43m)\u001b[49m\n\u001b[0;32m    498\u001b[0m \u001b[38;5;66;03m# Do not update `SparkConf` for existing `SparkContext`, as it's shared\u001b[39;00m\n\u001b[0;32m    499\u001b[0m \u001b[38;5;66;03m# by all sessions.\u001b[39;00m\n\u001b[0;32m    500\u001b[0m session \u001b[38;5;241m=\u001b[39m SparkSession(sc, options\u001b[38;5;241m=\u001b[39m\u001b[38;5;28mself\u001b[39m\u001b[38;5;241m.\u001b[39m_options)\n",
      "File \u001b[1;32mc:\\Users\\DO PHUONG DUNG\\AppData\\Local\\Programs\\Python\\Python313\\Lib\\site-packages\\pyspark\\context.py:515\u001b[0m, in \u001b[0;36mSparkContext.getOrCreate\u001b[1;34m(cls, conf)\u001b[0m\n\u001b[0;32m    513\u001b[0m \u001b[38;5;28;01mwith\u001b[39;00m SparkContext\u001b[38;5;241m.\u001b[39m_lock:\n\u001b[0;32m    514\u001b[0m     \u001b[38;5;28;01mif\u001b[39;00m SparkContext\u001b[38;5;241m.\u001b[39m_active_spark_context \u001b[38;5;129;01mis\u001b[39;00m \u001b[38;5;28;01mNone\u001b[39;00m:\n\u001b[1;32m--> 515\u001b[0m         \u001b[43mSparkContext\u001b[49m\u001b[43m(\u001b[49m\u001b[43mconf\u001b[49m\u001b[38;5;241;43m=\u001b[39;49m\u001b[43mconf\u001b[49m\u001b[43m \u001b[49m\u001b[38;5;129;43;01mor\u001b[39;49;00m\u001b[43m \u001b[49m\u001b[43mSparkConf\u001b[49m\u001b[43m(\u001b[49m\u001b[43m)\u001b[49m\u001b[43m)\u001b[49m\n\u001b[0;32m    516\u001b[0m     \u001b[38;5;28;01massert\u001b[39;00m SparkContext\u001b[38;5;241m.\u001b[39m_active_spark_context \u001b[38;5;129;01mis\u001b[39;00m \u001b[38;5;129;01mnot\u001b[39;00m \u001b[38;5;28;01mNone\u001b[39;00m\n\u001b[0;32m    517\u001b[0m     \u001b[38;5;28;01mreturn\u001b[39;00m SparkContext\u001b[38;5;241m.\u001b[39m_active_spark_context\n",
      "File \u001b[1;32mc:\\Users\\DO PHUONG DUNG\\AppData\\Local\\Programs\\Python\\Python313\\Lib\\site-packages\\pyspark\\context.py:201\u001b[0m, in \u001b[0;36mSparkContext.__init__\u001b[1;34m(self, master, appName, sparkHome, pyFiles, environment, batchSize, serializer, conf, gateway, jsc, profiler_cls, udf_profiler_cls, memory_profiler_cls)\u001b[0m\n\u001b[0;32m    195\u001b[0m \u001b[38;5;28;01mif\u001b[39;00m gateway \u001b[38;5;129;01mis\u001b[39;00m \u001b[38;5;129;01mnot\u001b[39;00m \u001b[38;5;28;01mNone\u001b[39;00m \u001b[38;5;129;01mand\u001b[39;00m gateway\u001b[38;5;241m.\u001b[39mgateway_parameters\u001b[38;5;241m.\u001b[39mauth_token \u001b[38;5;129;01mis\u001b[39;00m \u001b[38;5;28;01mNone\u001b[39;00m:\n\u001b[0;32m    196\u001b[0m     \u001b[38;5;28;01mraise\u001b[39;00m \u001b[38;5;167;01mValueError\u001b[39;00m(\n\u001b[0;32m    197\u001b[0m         \u001b[38;5;124m\"\u001b[39m\u001b[38;5;124mYou are trying to pass an insecure Py4j gateway to Spark. This\u001b[39m\u001b[38;5;124m\"\u001b[39m\n\u001b[0;32m    198\u001b[0m         \u001b[38;5;124m\"\u001b[39m\u001b[38;5;124m is not allowed as it is a security risk.\u001b[39m\u001b[38;5;124m\"\u001b[39m\n\u001b[0;32m    199\u001b[0m     )\n\u001b[1;32m--> 201\u001b[0m \u001b[43mSparkContext\u001b[49m\u001b[38;5;241;43m.\u001b[39;49m\u001b[43m_ensure_initialized\u001b[49m\u001b[43m(\u001b[49m\u001b[38;5;28;43mself\u001b[39;49m\u001b[43m,\u001b[49m\u001b[43m \u001b[49m\u001b[43mgateway\u001b[49m\u001b[38;5;241;43m=\u001b[39;49m\u001b[43mgateway\u001b[49m\u001b[43m,\u001b[49m\u001b[43m \u001b[49m\u001b[43mconf\u001b[49m\u001b[38;5;241;43m=\u001b[39;49m\u001b[43mconf\u001b[49m\u001b[43m)\u001b[49m\n\u001b[0;32m    202\u001b[0m \u001b[38;5;28;01mtry\u001b[39;00m:\n\u001b[0;32m    203\u001b[0m     \u001b[38;5;28mself\u001b[39m\u001b[38;5;241m.\u001b[39m_do_init(\n\u001b[0;32m    204\u001b[0m         master,\n\u001b[0;32m    205\u001b[0m         appName,\n\u001b[1;32m   (...)\u001b[0m\n\u001b[0;32m    215\u001b[0m         memory_profiler_cls,\n\u001b[0;32m    216\u001b[0m     )\n",
      "File \u001b[1;32mc:\\Users\\DO PHUONG DUNG\\AppData\\Local\\Programs\\Python\\Python313\\Lib\\site-packages\\pyspark\\context.py:436\u001b[0m, in \u001b[0;36mSparkContext._ensure_initialized\u001b[1;34m(cls, instance, gateway, conf)\u001b[0m\n\u001b[0;32m    434\u001b[0m \u001b[38;5;28;01mwith\u001b[39;00m SparkContext\u001b[38;5;241m.\u001b[39m_lock:\n\u001b[0;32m    435\u001b[0m     \u001b[38;5;28;01mif\u001b[39;00m \u001b[38;5;129;01mnot\u001b[39;00m SparkContext\u001b[38;5;241m.\u001b[39m_gateway:\n\u001b[1;32m--> 436\u001b[0m         SparkContext\u001b[38;5;241m.\u001b[39m_gateway \u001b[38;5;241m=\u001b[39m gateway \u001b[38;5;129;01mor\u001b[39;00m \u001b[43mlaunch_gateway\u001b[49m\u001b[43m(\u001b[49m\u001b[43mconf\u001b[49m\u001b[43m)\u001b[49m\n\u001b[0;32m    437\u001b[0m         SparkContext\u001b[38;5;241m.\u001b[39m_jvm \u001b[38;5;241m=\u001b[39m SparkContext\u001b[38;5;241m.\u001b[39m_gateway\u001b[38;5;241m.\u001b[39mjvm\n\u001b[0;32m    439\u001b[0m     \u001b[38;5;28;01mif\u001b[39;00m instance:\n",
      "File \u001b[1;32mc:\\Users\\DO PHUONG DUNG\\AppData\\Local\\Programs\\Python\\Python313\\Lib\\site-packages\\pyspark\\java_gateway.py:107\u001b[0m, in \u001b[0;36mlaunch_gateway\u001b[1;34m(conf, popen_kwargs)\u001b[0m\n\u001b[0;32m    104\u001b[0m     time\u001b[38;5;241m.\u001b[39msleep(\u001b[38;5;241m0.1\u001b[39m)\n\u001b[0;32m    106\u001b[0m \u001b[38;5;28;01mif\u001b[39;00m \u001b[38;5;129;01mnot\u001b[39;00m os\u001b[38;5;241m.\u001b[39mpath\u001b[38;5;241m.\u001b[39misfile(conn_info_file):\n\u001b[1;32m--> 107\u001b[0m     \u001b[38;5;28;01mraise\u001b[39;00m PySparkRuntimeError(\n\u001b[0;32m    108\u001b[0m         error_class\u001b[38;5;241m=\u001b[39m\u001b[38;5;124m\"\u001b[39m\u001b[38;5;124mJAVA_GATEWAY_EXITED\u001b[39m\u001b[38;5;124m\"\u001b[39m,\n\u001b[0;32m    109\u001b[0m         message_parameters\u001b[38;5;241m=\u001b[39m{},\n\u001b[0;32m    110\u001b[0m     )\n\u001b[0;32m    112\u001b[0m \u001b[38;5;28;01mwith\u001b[39;00m \u001b[38;5;28mopen\u001b[39m(conn_info_file, \u001b[38;5;124m\"\u001b[39m\u001b[38;5;124mrb\u001b[39m\u001b[38;5;124m\"\u001b[39m) \u001b[38;5;28;01mas\u001b[39;00m info:\n\u001b[0;32m    113\u001b[0m     gateway_port \u001b[38;5;241m=\u001b[39m read_int(info)\n",
      "\u001b[1;31mPySparkRuntimeError\u001b[0m: [JAVA_GATEWAY_EXITED] Java gateway process exited before sending its port number."
     ]
    }
   ],
   "source": [
    "from pyspark.sql import SparkSession\n",
    "from pyspark.sql.functions import when, col\n",
    "\n",
    "# Khởi tạo session nếu chưa có\n",
    "spark = SparkSession.builder.appName(\"FeatureBalance\").getOrCreate()\n",
    "\n",
    "# Load data nếu cần\n",
    "bank = spark.read.csv(r\"C:\\Users\\Ngoc Minh\\Downloads\\python course\\cleaned_data.csv\", header=True, inferSchema=True)\n",
    "\n",
    "# Cast balance nếu cần\n",
    "bank = bank.withColumn(\"balance\", col(\"balance\").cast(\"double\"))\n",
    "\n",
    "# Tạo biểu thức phân loại balance\n",
    "balance_bin_expr = when(col(\"balance\") <= 0, \"≤ 0\") \\\n",
    "    .when((col(\"balance\") > 0) & (col(\"balance\") <= 500), \"0-500\") \\\n",
    "    .when((col(\"balance\") > 500) & (col(\"balance\") <= 1500), \"500-1500\") \\\n",
    "    .when((col(\"balance\") > 1500) & (col(\"balance\") <= 3000), \"1500-3000\") \\\n",
    "    .when((col(\"balance\") > 3000) & (col(\"balance\") <= 10000), \"3000-10000\") \\\n",
    "    .otherwise(\">10000\")\n",
    "\n",
    "# Thêm cột mới\n",
    "bank = bank.withColumn(\"balance_bin\", balance_bin_expr)\n"
   ]
  },
  {
   "cell_type": "markdown",
   "id": "a742ee22",
   "metadata": {},
   "source": [
    "tạo bin thành age group"
   ]
  },
  {
   "cell_type": "code",
   "execution_count": null,
   "id": "52de4de3",
   "metadata": {},
   "outputs": [],
   "source": [
    "age_group_expr = when(col(\"age\") <= 25, \"<25\") \\\n",
    "    .when((col(\"age\") > 25) & (col(\"age\") <= 35), \"25-35\") \\\n",
    "    .when((col(\"age\") > 35) & (col(\"age\") <= 45), \"35-45\") \\\n",
    "    .when((col(\"age\") > 45) & (col(\"age\") <= 60), \"45-60\") \\\n",
    "    .otherwise(\">60\")\n",
    "\n",
    "bank = bank.withColumn(\"age_group\", age_group_expr)"
   ]
  },
  {
   "cell_type": "markdown",
   "id": "4bdca318",
   "metadata": {},
   "source": [
    "tạo bin cho biến duration"
   ]
  },
  {
   "cell_type": "code",
   "execution_count": 17,
   "id": "75dfe5bd",
   "metadata": {},
   "outputs": [],
   "source": [
    "from pyspark.sql.functions import col, when\n"
   ]
  },
  {
   "cell_type": "code",
   "execution_count": null,
   "id": "cd271bdd",
   "metadata": {},
   "outputs": [],
   "source": [
    "duration_bin_expr = when(col(\"duration\") <= 100, \"(0-100]\") \\\n",
    "    .when((col(\"duration\") > 100) & (col(\"duration\") <= 200), \"(100-200]\") \\\n",
    "    .when((col(\"duration\") > 200) & (col(\"duration\") <= 300), \"(200-300]\") \\\n",
    "    .when((col(\"duration\") > 300) & (col(\"duration\") <= 400), \"(300-400]\") \\\n",
    "    .when((col(\"duration\") > 400) & (col(\"duration\") <= 500), \"(400-500]\") \\\n",
    "    .otherwise(\"(500+)\")\n",
    "    \n",
    "bank = bank.withColumn(\"duration_bin\", duration_bin_expr)\n"
   ]
  },
  {
   "cell_type": "markdown",
   "id": "4ddebfe9",
   "metadata": {},
   "source": [
    "tạo biến contact history"
   ]
  },
  {
   "cell_type": "code",
   "execution_count": 16,
   "id": "3c65f878",
   "metadata": {},
   "outputs": [
    {
     "ename": "AttributeError",
     "evalue": "'DataFrame' object has no attribute 'withColumn'",
     "output_type": "error",
     "traceback": [
      "\u001b[1;31m---------------------------------------------------------------------------\u001b[0m",
      "\u001b[1;31mAttributeError\u001b[0m                            Traceback (most recent call last)",
      "\u001b[1;32m~\\AppData\\Local\\Temp\\ipykernel_17416\\3660025207.py\u001b[0m in \u001b[0;36m?\u001b[1;34m()\u001b[0m\n\u001b[1;32m----> 1\u001b[1;33m bank = bank.withColumn(\n\u001b[0m\u001b[0;32m      2\u001b[0m     \u001b[1;34m\"contact_history\"\u001b[0m\u001b[1;33m,\u001b[0m\u001b[1;33m\u001b[0m\u001b[1;33m\u001b[0m\u001b[0m\n\u001b[0;32m      3\u001b[0m     \u001b[0mwhen\u001b[0m\u001b[1;33m(\u001b[0m\u001b[0mcol\u001b[0m\u001b[1;33m(\u001b[0m\u001b[1;34m\"previous\"\u001b[0m\u001b[1;33m)\u001b[0m \u001b[1;33m==\u001b[0m \u001b[1;36m0\u001b[0m\u001b[1;33m,\u001b[0m \u001b[1;34m\"new\"\u001b[0m\u001b[1;33m)\u001b[0m\u001b[1;33m.\u001b[0m\u001b[0motherwise\u001b[0m\u001b[1;33m(\u001b[0m\u001b[1;34m\"contacted_before\"\u001b[0m\u001b[1;33m)\u001b[0m\u001b[1;33m\u001b[0m\u001b[1;33m\u001b[0m\u001b[0m\n\u001b[0;32m      4\u001b[0m \u001b[1;33m)\u001b[0m\u001b[1;33m\u001b[0m\u001b[1;33m\u001b[0m\u001b[0m\n",
      "\u001b[1;32mc:\\Users\\DO PHUONG DUNG\\AppData\\Local\\Programs\\Python\\Python313\\Lib\\site-packages\\pandas\\core\\generic.py\u001b[0m in \u001b[0;36m?\u001b[1;34m(self, name)\u001b[0m\n\u001b[0;32m   6295\u001b[0m             \u001b[1;32mand\u001b[0m \u001b[0mname\u001b[0m \u001b[1;32mnot\u001b[0m \u001b[1;32min\u001b[0m \u001b[0mself\u001b[0m\u001b[1;33m.\u001b[0m\u001b[0m_accessors\u001b[0m\u001b[1;33m\u001b[0m\u001b[1;33m\u001b[0m\u001b[0m\n\u001b[0;32m   6296\u001b[0m             \u001b[1;32mand\u001b[0m \u001b[0mself\u001b[0m\u001b[1;33m.\u001b[0m\u001b[0m_info_axis\u001b[0m\u001b[1;33m.\u001b[0m\u001b[0m_can_hold_identifiers_and_holds_name\u001b[0m\u001b[1;33m(\u001b[0m\u001b[0mname\u001b[0m\u001b[1;33m)\u001b[0m\u001b[1;33m\u001b[0m\u001b[1;33m\u001b[0m\u001b[0m\n\u001b[0;32m   6297\u001b[0m         \u001b[1;33m)\u001b[0m\u001b[1;33m:\u001b[0m\u001b[1;33m\u001b[0m\u001b[1;33m\u001b[0m\u001b[0m\n\u001b[0;32m   6298\u001b[0m             \u001b[1;32mreturn\u001b[0m \u001b[0mself\u001b[0m\u001b[1;33m[\u001b[0m\u001b[0mname\u001b[0m\u001b[1;33m]\u001b[0m\u001b[1;33m\u001b[0m\u001b[1;33m\u001b[0m\u001b[0m\n\u001b[1;32m-> 6299\u001b[1;33m         \u001b[1;32mreturn\u001b[0m \u001b[0mobject\u001b[0m\u001b[1;33m.\u001b[0m\u001b[0m__getattribute__\u001b[0m\u001b[1;33m(\u001b[0m\u001b[0mself\u001b[0m\u001b[1;33m,\u001b[0m \u001b[0mname\u001b[0m\u001b[1;33m)\u001b[0m\u001b[1;33m\u001b[0m\u001b[1;33m\u001b[0m\u001b[0m\n\u001b[0m",
      "\u001b[1;31mAttributeError\u001b[0m: 'DataFrame' object has no attribute 'withColumn'"
     ]
    }
   ],
   "source": [
    "bank = bank.withColumn(\n",
    "    \"contact_history\",\n",
    "    when(col(\"previous\") == 0, \"new\").otherwise(\"contacted_before\")\n",
    ")"
   ]
  },
  {
   "cell_type": "markdown",
   "id": "0ef4de75",
   "metadata": {},
   "source": [
    "tạo biến financial burnden từ yes (housing) & yes (loan)"
   ]
  },
  {
   "cell_type": "code",
   "execution_count": 5,
   "id": "7a111f55",
   "metadata": {},
   "outputs": [
    {
     "ename": "ModuleNotFoundError",
     "evalue": "No module named 'pyspark'",
     "output_type": "error",
     "traceback": [
      "\u001b[1;31m---------------------------------------------------------------------------\u001b[0m",
      "\u001b[1;31mModuleNotFoundError\u001b[0m                       Traceback (most recent call last)",
      "Cell \u001b[1;32mIn[5], line 1\u001b[0m\n\u001b[1;32m----> 1\u001b[0m \u001b[38;5;28;01mfrom\u001b[39;00m\u001b[38;5;250m \u001b[39m\u001b[38;5;21;01mpyspark\u001b[39;00m\u001b[38;5;21;01m.\u001b[39;00m\u001b[38;5;21;01msql\u001b[39;00m\u001b[38;5;250m \u001b[39m\u001b[38;5;28;01mimport\u001b[39;00m SparkSession\n\u001b[0;32m      2\u001b[0m \u001b[38;5;28;01mfrom\u001b[39;00m\u001b[38;5;250m \u001b[39m\u001b[38;5;21;01mpyspark\u001b[39;00m\u001b[38;5;21;01m.\u001b[39;00m\u001b[38;5;21;01msql\u001b[39;00m\u001b[38;5;21;01m.\u001b[39;00m\u001b[38;5;21;01mfunctions\u001b[39;00m\u001b[38;5;250m \u001b[39m\u001b[38;5;28;01mimport\u001b[39;00m when, col\n\u001b[0;32m      4\u001b[0m \u001b[38;5;66;03m# Khởi tạo SparkSession\u001b[39;00m\n",
      "\u001b[1;31mModuleNotFoundError\u001b[0m: No module named 'pyspark'"
     ]
    }
   ],
   "source": [
    "from pyspark.sql import SparkSession\n",
    "from pyspark.sql.functions import when, col\n",
    "\n",
    "# Khởi tạo SparkSession\n",
    "spark = SparkSession.builder.appName(\"FinancialBurdenFeature\").getOrCreate()\n",
    "\n",
    "# Đọc dữ liệu\n",
    "bank = spark.read.csv(r\"C:\\Users\\Ngoc Minh\\Downloads\\python course\\cleaned_data.csv\", header=True, inferSchema=True)\n",
    "\n",
    "# Tạo cột mới 'financial_burden'\n",
    "bank = bank.withColumn(\n",
    "    \"financial_burden\",\n",
    "    when((col(\"housing\") == \"yes\") & (col(\"loan\") == \"yes\"), \"both\")\n",
    "    .when((col(\"housing\") == \"yes\") | (col(\"loan\") == \"yes\"), \"only one\")\n",
    "    .otherwise(\"none\")\n",
    ")\n"
   ]
  },
  {
   "cell_type": "markdown",
   "id": "8ba9125f",
   "metadata": {},
   "source": [
    "tạo golden group"
   ]
  },
  {
   "cell_type": "code",
   "execution_count": 104,
   "id": "05ea4e25",
   "metadata": {},
   "outputs": [],
   "source": [
    "from pyspark.sql.functions import when, col\n",
    "\n",
    "# Bước 1: Tính median balance bằng approxQuantile\n",
    "median_balance = bank.approxQuantile(\"balance\", [0.5], 0.01)[0]\n",
    "\n",
    "# Bước 2: Gán nhóm 'golden' nếu balance cao & không có khoản vay nào\n",
    "bank = bank.withColumn(\n",
    "    \"golden_group\",\n",
    "    when((col(\"balance\") > median_balance) & (col(\"financial_burden\") == \"none\"), \"golden\")\n",
    "    .otherwise(\"other\")\n",
    ")"
   ]
  },
  {
   "cell_type": "markdown",
   "id": "a5b8ba4c",
   "metadata": {},
   "source": [
    "tạo bin cho pdays"
   ]
  },
  {
   "cell_type": "code",
   "execution_count": 105,
   "id": "4b623a20",
   "metadata": {},
   "outputs": [],
   "source": [
    "from pyspark.sql.functions import when, col\n",
    "\n",
    "# Bước 1: Lọc các dòng có pdays ≠ -1\n",
    "bank = bank.filter(col(\"pdays\") != -1)\n",
    "\n",
    "# Bước 2: Tạo cột phân loại pdays_range bằng when()\n",
    "bank = bank.withColumn(\n",
    "    \"pdays_range\",\n",
    "    when((col(\"pdays\") >= 0) & (col(\"pdays\") <= 7), \"<1 week\")\n",
    "    .when((col(\"pdays\") > 7) & (col(\"pdays\") <= 14), \"1–2 weeks\")\n",
    "    .when((col(\"pdays\") > 14) & (col(\"pdays\") <= 30), \"2–4 weeks\")\n",
    "    .when((col(\"pdays\") > 30) & (col(\"pdays\") <= 90), \"1–3 months\")\n",
    "    .otherwise(\">3 months\")\n",
    ")"
   ]
  },
  {
   "cell_type": "code",
   "execution_count": 4,
   "id": "655940d9",
   "metadata": {},
   "outputs": [
    {
     "ename": "NameError",
     "evalue": "name 'bank' is not defined",
     "output_type": "error",
     "traceback": [
      "\u001b[1;31m---------------------------------------------------------------------------\u001b[0m",
      "\u001b[1;31mNameError\u001b[0m                                 Traceback (most recent call last)",
      "Cell \u001b[1;32mIn[4], line 1\u001b[0m\n\u001b[1;32m----> 1\u001b[0m \u001b[43mbank\u001b[49m\u001b[38;5;241m.\u001b[39mshow(\u001b[38;5;241m10\u001b[39m)\n",
      "\u001b[1;31mNameError\u001b[0m: name 'bank' is not defined"
     ]
    }
   ],
   "source": [
    "bank.show(10)"
   ]
  },
  {
   "cell_type": "markdown",
   "id": "f4802b8c",
   "metadata": {},
   "source": [
    "chuyển dữ liệu về thư viện pandas sau khi feature engineering"
   ]
  },
  {
   "cell_type": "code",
   "execution_count": 3,
   "id": "101bc66a",
   "metadata": {},
   "outputs": [
    {
     "ename": "NameError",
     "evalue": "name 'bank' is not defined",
     "output_type": "error",
     "traceback": [
      "\u001b[1;31m---------------------------------------------------------------------------\u001b[0m",
      "\u001b[1;31mNameError\u001b[0m                                 Traceback (most recent call last)",
      "Cell \u001b[1;32mIn[3], line 1\u001b[0m\n\u001b[1;32m----> 1\u001b[0m bank \u001b[38;5;241m=\u001b[39m \u001b[43mbank\u001b[49m\u001b[38;5;241m.\u001b[39mtoPandas()\n",
      "\u001b[1;31mNameError\u001b[0m: name 'bank' is not defined"
     ]
    }
   ],
   "source": [
    "bank = bank.toPandas()"
   ]
  },
  {
   "cell_type": "markdown",
   "id": "0b34e8c2",
   "metadata": {},
   "source": [
    "bây giờ sẽ dùng pandas và matplotlib để EDA và visualization"
   ]
  },
  {
   "cell_type": "markdown",
   "id": "90eacf3c",
   "metadata": {},
   "source": [
    "#### I. Bức tranh toàn cảnh"
   ]
  },
  {
   "cell_type": "markdown",
   "id": "6ce5d97c",
   "metadata": {},
   "source": [
    "__1. Tỷ lệ khách hàng đăng ký sản phẩm (y) là bao nhiêu?__ <br>\n",
    " → Tỷ lệ success vs fail để hiểu mức độ \"khó\" của chiến dịch."
   ]
  },
  {
   "cell_type": "code",
   "execution_count": 2,
   "id": "6ddb797c",
   "metadata": {},
   "outputs": [
    {
     "ename": "NameError",
     "evalue": "name 'bank' is not defined",
     "output_type": "error",
     "traceback": [
      "\u001b[1;31m---------------------------------------------------------------------------\u001b[0m",
      "\u001b[1;31mNameError\u001b[0m                                 Traceback (most recent call last)",
      "Cell \u001b[1;32mIn[2], line 1\u001b[0m\n\u001b[1;32m----> 1\u001b[0m \u001b[43mbank\u001b[49m[\u001b[38;5;124m'\u001b[39m\u001b[38;5;124my\u001b[39m\u001b[38;5;124m'\u001b[39m]\u001b[38;5;241m.\u001b[39mvalue_counts()\n",
      "\u001b[1;31mNameError\u001b[0m: name 'bank' is not defined"
     ]
    }
   ],
   "source": [
    "bank['y'].value_counts()"
   ]
  },
  {
   "cell_type": "code",
   "execution_count": 15,
   "id": "62d2f3a2",
   "metadata": {},
   "outputs": [
    {
     "data": {
      "text/plain": [
       "y\n",
       "no     89.63129\n",
       "yes    10.36871\n",
       "Name: proportion, dtype: float64"
      ]
     },
     "execution_count": 15,
     "metadata": {},
     "output_type": "execute_result"
    }
   ],
   "source": [
    "bank['y'].value_counts(normalize=True)*100"
   ]
  },
  {
   "cell_type": "markdown",
   "id": "f1883ab1",
   "metadata": {},
   "source": [
    "__2. Số lần gọi trong một chiến dịch (campaign) ảnh hưởng thế nào đến quyết định của khách hàng? Có mức gọi tối ưu không?__ <br>"
   ]
  },
  {
   "cell_type": "code",
   "execution_count": null,
   "id": "30dfe383",
   "metadata": {},
   "outputs": [],
   "source": [
    "plt.figure(figsize=(6,4))\n",
    "sns.boxplot(data=bank, x='y', y='campaign')\n",
    "plt.title(\"Campaign Calls by Subscription Status\")\n",
    "plt.xlabel(\"Subscribed\")\n",
    "plt.ylabel(\"Number of Calls in Campaign\")\n",
    "plt.show()"
   ]
  },
  {
   "cell_type": "markdown",
   "id": "11f9a389",
   "metadata": {},
   "source": [
    "#### II. Chân dung khách hàng"
   ]
  },
  {
   "cell_type": "markdown",
   "id": "6d786a4c",
   "metadata": {},
   "source": [
    "__1. Tỷ lệ đăng ký theo nghề nghiệp__ <br>"
   ]
  },
  {
   "cell_type": "code",
   "execution_count": null,
   "id": "d8abb263",
   "metadata": {},
   "outputs": [],
   "source": [
    "# Filter only customers who subscribed\n",
    "bank_yes = bank[bank['y'] == 'yes']\n",
    "\n",
    "# Count number of subscribed customers by job\n",
    "job_counts = bank_yes['job'].value_counts().sort_values(ascending=False)\n",
    "\n",
    "# Plot the chart\n",
    "plt.figure(figsize=(10,6))\n",
    "sns.barplot(x=job_counts.values, y=job_counts.index, palette=\"Blues_d\")\n",
    "plt.title(\"Number of Subscribed Customers (y = yes) by Job Group\")\n",
    "plt.xlabel(\"Number of Subscribed Customers\")\n",
    "plt.ylabel(\"Job Category\")\n",
    "plt.tight_layout()\n",
    "plt.show()\n"
   ]
  },
  {
   "cell_type": "markdown",
   "id": "0ecf1d0c",
   "metadata": {},
   "source": [
    "- Nhóm quản lý, tiếp theo là kỹ thuật viên và công nhân có tỷ lệ đăng ký cao nhất do có hiểu biết nền tảng về sản phẩm và thị trường, đồng thời có nguồn tài chính ổn định.\n",
    "- Nhóm nghỉ hưu và sinh viên cũng cho thấy số lượng đăng ký đáng kể, cho thấy sự quan tâm trong các nhóm không đi làm.\n",
    "\n",
    "=> Khuyến nghị: Tập trung chiến lược tiếp thị vào các nhóm có hiệu suất cao và tìm cách cải thiện chuyển đổi trong các nhóm có hiệu suất kém."
   ]
  },
  {
   "cell_type": "markdown",
   "id": "b9d02d41",
   "metadata": {},
   "source": [
    "__2. Tỷ lệ đăng kí theo trình độ học vấn__ <br>"
   ]
  },
  {
   "cell_type": "code",
   "execution_count": 114,
   "id": "e5f93ee7",
   "metadata": {},
   "outputs": [
    {
     "data": {
      "image/png": "[encoded data removed]",
      "text/plain": [
       "<Figure size 800x500 with 1 Axes>"
      ]
     },
     "metadata": {},
     "output_type": "display_data"
    }
   ],
   "source": [
    "# Tổng số khách hàng theo education level\n",
    "edu_total = bank['education'].value_counts()\n",
    "\n",
    "# Số khách hàng đăng ký theo education level\n",
    "edu_yes = bank[bank['y'] == 'yes']['education'].value_counts()\n",
    "\n",
    "# Tính tỷ lệ\n",
    "edu_rate = (edu_yes / edu_total * 100).sort_values(ascending=False)\n",
    "\n",
    "# Vẽ biểu đồ\n",
    "plt.figure(figsize=(8,5))\n",
    "sns.barplot(x=edu_rate.index, y=edu_rate.values)\n",
    "plt.title(\"Customer registration rate by education level (%)\")\n",
    "plt.xlabel(\"Education level\")\n",
    "plt.ylabel(\"Registration rate (%)\")\n",
    "plt.ylim(0, 100)\n",
    "plt.tight_layout()\n",
    "plt.show()"
   ]
  },
  {
   "cell_type": "markdown",
   "id": "4df5178b",
   "metadata": {},
   "source": [
    "Nhóm có trình độ đại học trở lên có tỷ lệ đăng ký cao nhất trong 3 nhóm do họ có mức độ hiểu biết nhất định đối với thị trường và sản phẩm vì vậy họ dễ tiếp cận với sản phẩm hơn.\n"
   ]
  },
  {
   "cell_type": "markdown",
   "id": "8b5a4a5e",
   "metadata": {},
   "source": [
    "#### III. Tài chính cá nhân"
   ]
  },
  {
   "cell_type": "markdown",
   "id": "3050167b",
   "metadata": {},
   "source": [
    "__1. Tỷ lệ đăng ký theo số dư tài khoản__ <br>"
   ]
  },
  {
   "cell_type": "code",
   "execution_count": null,
   "id": "202f6bb5",
   "metadata": {},
   "outputs": [],
   "source": [
    "# Tính tỷ lệ đăng ký theo nhóm balance_bin\n",
    "balance_bin_rate = bank.groupby(\"balance_bin\")[\"y\"].value_counts(normalize=True).unstack().fillna(0).reset_index()\n",
    "\n",
    "# Vẽ biểu đồ tỷ lệ y = yes theo từng bin\n",
    "plt.figure(figsize=(10,6))\n",
    "sns.barplot(data=balance_bin_rate, x=\"balance_bin\", y=\"yes\", palette=\"Blues_d\")\n",
    "plt.title(\"Subscription Rate by Balance Bin\")\n",
    "plt.xlabel(\"Balance Bin\")\n",
    "plt.ylabel(\"Subscription Rate (y = yes)\")\n",
    "plt.ylim(0, 1)\n",
    "plt.xticks(rotation=45)\n",
    "plt.grid(axis=\"y\")\n",
    "plt.tight_layout()\n",
    "plt.show()\n",
    "\n",
    "\n",
    "import matplotlib.pyplot as plt\n",
    "\n",
    "# Lọc khách đã đăng ký\n",
    "bank_yes = bank[bank['y'] == 'yes']\n",
    "\n",
    "# Đếm số lượng đăng ký theo balance_bin\n",
    "bin_counts = bank_yes['balance_bin'].value_counts().sort_index()\n",
    "\n",
    "# Vẽ pie chart\n",
    "plt.figure(figsize=(8,6))\n",
    "plt.pie(bin_counts, labels=bin_counts.index, autopct='%1.1f%%', startangle=90, colors=plt.cm.Blues(range(100, 256, int(155/len(bin_counts)))))\n",
    "plt.title(\"Distribution of Subscribed Customers by Balance Bin (%)\")\n",
    "plt.axis('equal')  # Bắt buộc để hình tròn đều\n",
    "plt.tight_layout()\n",
    "plt.show()"
   ]
  },
  {
   "cell_type": "markdown",
   "id": "09e08e1a",
   "metadata": {},
   "source": [
    "Nhóm có balance cao có tỷ lệ đăng ký cao hơn do họ có một nền tảng tài chính mạnh để mua thêm những sản phẩm tài hcinhs mới. Tuy nhiên, nhóm có balance âm hoặc thấp vẫn đăng ký, cho thấy đây không phải là yếu tố quyết định tới nhu cầu về sản phẩm, tuy nhiên, nên có một kế hoạch tiếp thị và bán sản phẩm phù hợp cho từng nhóm."
   ]
  },
  {
   "cell_type": "markdown",
   "id": "4466d8df",
   "metadata": {},
   "source": [
    "__2. Tỷ lệ đăng ký theo tình trạng vay thế chấp__ <br>\n"
   ]
  },
  {
   "cell_type": "code",
   "execution_count": null,
   "id": "eeced1a0",
   "metadata": {},
   "outputs": [],
   "source": [
    "plt.figure(figsize=(6,4))\n",
    "sns.countplot(data=bank, x=\"housing\", hue=\"y\")\n",
    "plt.title(\"Subscription Rate by Housing Loan\")\n",
    "plt.xlabel(\"Has Housing Loan\")\n",
    "plt.ylabel(\"Count\")\n",
    "plt.legend(title=\"Subscribed\")\n",
    "plt.show()"
   ]
  },
  {
   "cell_type": "markdown",
   "id": "b9bae998",
   "metadata": {},
   "source": [
    "__3. Tỷ lệ đăng ký theo tình trạng vay cá nhân__ <br>\n"
   ]
  },
  {
   "cell_type": "code",
   "execution_count": null,
   "id": "f9109021",
   "metadata": {},
   "outputs": [],
   "source": [
    "plt.figure(figsize=(6,4))\n",
    "sns.countplot(data=bank, x=\"loan\", hue=\"y\")\n",
    "plt.title(\"Subscription Rate by Personal Loan\")\n",
    "plt.xlabel(\"Has Personal Loan\")\n",
    "plt.ylabel(\"Count\")\n",
    "plt.legend(title=\"Subscribed\")\n",
    "plt.show()"
   ]
  },
  {
   "cell_type": "markdown",
   "id": "7787b22f",
   "metadata": {},
   "source": [
    "Những người có khoản vay thế chấp và khoản vay cá nhân có tỷ lệ đăng ký thấp hơn do họ đã có nghĩa vụ tài hcinhs phải trả vì vậy gánh nặng tài chính hiện tại khiến họ ít sẵn sàng để mua thêm sản phẩm mới."
   ]
  },
  {
   "cell_type": "markdown",
   "id": "fed63dcb",
   "metadata": {},
   "source": [
    "__3. Tỷ lệ đăng ký theo tình trạng vay và số dư__ <br>"
   ]
  },
  {
   "cell_type": "code",
   "execution_count": null,
   "id": "eeb85695",
   "metadata": {},
   "outputs": [],
   "source": [
    "# Bước 1: Tính balance trung bình và tỷ lệ đăng ký theo housing & loan\n",
    "df_agg = bank.groupby([\"housing\", \"loan\"]).agg(\n",
    "    avg_balance=(\"balance\", \"mean\"),\n",
    "    pct_yes=(\"y\", lambda x: (x == \"yes\").mean() * 100)\n",
    ").reset_index()\n",
    "\n",
    "# Bước 2: Pivot để chuẩn bị dữ liệu cho heatmap\n",
    "heatmap_data = df_agg.pivot(index=\"housing\", columns=\"loan\", values=\"pct_yes\")\n",
    "\n",
    "# Bước 3: Vẽ heatmap\n",
    "plt.figure(figsize=(6, 4))\n",
    "sns.heatmap(heatmap_data, annot=True, fmt=\".1f\", cmap=\"Blues\")\n",
    "\n",
    "plt.title(\"Subscription Rate (%) by Loan and Housing Status\")\n",
    "plt.xlabel(\"Personal Loan\")\n",
    "plt.ylabel(\"Housing Loan\")\n",
    "plt.tight_layout()\n",
    "plt.show()\n"
   ]
  },
  {
   "cell_type": "markdown",
   "id": "1306bcab",
   "metadata": {},
   "source": [
    "- Nhóm không có khoản vay thế chấp, khoản vay cá nhân và balance cao là nhóm có khả nnagw mua sản phẩm ao nhất với 17.3% do họ không có gánh nặng tài chính và có đủ tiền để mua thêm những sản phẩm mới.\n",
    "\n",
    "- Nhóm có hoản vay cá nhân dù có balance cao nhưng cũng không có nhu cầu cao trong việc mua sản phẩm.\n",
    "\n",
    "- Nhóm có nhu cầu tiếp cận sản phẩm thấp nhất là nhóm có balnce thấp và phải gánh chịu cả hai hoản vay thế chấp và khoản vay cá nhân.\n",
    "\n",
    "=> ***Chiến lược trọng tâm*** là \"low risk, high conversion\"."
   ]
  },
  {
   "cell_type": "markdown",
   "id": "f87a2f75",
   "metadata": {},
   "source": [
    "#### IV. Tương tác cuộc gọi. "
   ]
  },
  {
   "cell_type": "markdown",
   "id": "bc3666d1",
   "metadata": {},
   "source": [
    "__1. Tỷ lệ đăng ký theo số lượng cuộc gọi__ <br>"
   ]
  },
  {
   "cell_type": "code",
   "execution_count": null,
   "id": "a6ce421a",
   "metadata": {},
   "outputs": [],
   "source": [
    "# Tính tỷ lệ đăng ký theo số lần gọi\n",
    "campaign_ratio = bank.groupby('campaign')['y'].value_counts(normalize=True).unstack().fillna(0)\n",
    "campaign_ratio = campaign_ratio.reset_index()\n",
    "\n",
    "plt.figure(figsize=(10,5))\n",
    "sns.lineplot(data=campaign_ratio, x='campaign', y='yes', marker='o')\n",
    "plt.title(\"Subscription Rate vs Number of Calls\")\n",
    "plt.xlabel(\"Number of Calls (campaign)\")\n",
    "plt.ylabel(\"Proportion Subscribed\")\n",
    "plt.grid(True)\n",
    "plt.show()"
   ]
  },
  {
   "cell_type": "markdown",
   "id": "b3e12454",
   "metadata": {},
   "source": [
    "Gọi quá nhiều lần không giúp tăng tỷ lệ đăng ký mà ngược lại có xu hướng làm giảm do khách hàng có thể coi đây là cuộc gọi lừa đảo và tránh việc nghe điện. Điều này cho thấy hiệ ứng spam mang lại hiệu quả khá tiêu cực.\n",
    "\n",
    "=> Vì vậy ***số lần gọi tối ưu*** là 1-2 lần."
   ]
  },
  {
   "cell_type": "markdown",
   "id": "592e19f8",
   "metadata": {},
   "source": [
    "__2. Tỷ lệ đăng ký theo thời lượng cuộc gọi__ <br>"
   ]
  },
  {
   "cell_type": "code",
   "execution_count": null,
   "id": "609685c6",
   "metadata": {},
   "outputs": [],
   "source": [
    "duration_rate = bank.groupby('duration_bin')['y'].value_counts(normalize=True).unstack().fillna(0)\n",
    "duration_rate = duration_rate.reset_index()\n",
    "# Chuyển duration_bin thành chuỗi để vẽ được trục x\n",
    "duration_rate[\"duration_bin\"] = duration_rate[\"duration_bin\"].astype(str)\n",
    "\n",
    "# Vẽ lại\n",
    "plt.figure(figsize=(8,5))\n",
    "sns.lineplot(data=duration_rate, x=\"duration_bin\", y=\"yes\", marker='o')\n",
    "plt.title(\"Subscription Rate by Call Duration Range\")\n",
    "plt.xlabel(\"Call Duration Range (seconds)\")\n",
    "plt.ylabel(\"Subscription Rate (y = yes)\")\n",
    "plt.grid(True)\n",
    "plt.tight_layout()\n",
    "plt.show()"
   ]
  },
  {
   "cell_type": "markdown",
   "id": "6e1a9c72",
   "metadata": {},
   "source": [
    "- Thời lượng gọi càng dài, tỷ lệ đăng ký càng cao cho thấy người mua sản phẩm có hứng thú với sản phẩm và sẵn sàng nghe giới thiệu về sản phẩm.\n",
    "\n",
    "=> Cần tăng chất lượng cuộc gọi để cung cấp được luongj wthoong tin nhiều nhất về sản phẩm và có khả năng thu hút khách hàng."
   ]
  },
  {
   "cell_type": "markdown",
   "id": "16a2d9df",
   "metadata": {},
   "source": [
    "__3. Tỷ lệ đăng ký theo kênh liên hệ__ <br>"
   ]
  },
  {
   "cell_type": "code",
   "execution_count": null,
   "id": "faf0d1ff",
   "metadata": {},
   "outputs": [],
   "source": [
    "# Tính tỷ lệ đăng ký theo job & contact\n",
    "job_contact = bank.groupby([\"job\", \"contact\"])[\"y\"].value_counts(normalize=True).unstack().fillna(0).reset_index()\n",
    "\n",
    "# Vẽ biểu đồ\n",
    "plt.figure(figsize=(12,6))\n",
    "sns.barplot(data=job_contact, x=\"job\", y=\"yes\", hue=\"contact\")\n",
    "plt.title(\"Subscription Rate by Contact Channel and Job\")\n",
    "plt.ylabel(\"Subscription Rate (y = yes)\")\n",
    "plt.xlabel(\"Job\")\n",
    "plt.xticks(rotation=45)\n",
    "plt.legend(title=\"Contact\")\n",
    "plt.tight_layout()\n",
    "plt.show()\n"
   ]
  },
  {
   "cell_type": "markdown",
   "id": "469cd360",
   "metadata": {},
   "source": [
    "Cellular hiệu quả hơn so với Telephone do việc dùng điện thoại bàn ngày nay đã giảm hẳn. Việc gọi vào cellular phone giúp ngân hàng dễ tiếp cận khách hàng hơn."
   ]
  },
  {
   "cell_type": "markdown",
   "id": "1ab598f4",
   "metadata": {},
   "source": [
    "#### V. Chiến dịch trước để lại gì?. "
   ]
  },
  {
   "cell_type": "markdown",
   "id": "12b15a33",
   "metadata": {},
   "source": [
    "__1. Tỷ lệ đăng ký theo chiến dịch trước__ <br>"
   ]
  },
  {
   "cell_type": "code",
   "execution_count": null,
   "id": "e91fce94",
   "metadata": {},
   "outputs": [],
   "source": [
    "history_rate = bank.groupby(\"contact_history\")[\"y\"].value_counts(normalize=True).unstack().fillna(0).reset_index()\n",
    "plt.figure(figsize=(6, 4))\n",
    "sns.barplot(data=history_rate, x=\"contact_history\", y=\"yes\", palette=\"Blues\")\n",
    "plt.title(\"Subscription Rate by Previous Contact History\")\n",
    "plt.xlabel(\"Customer Contact History\")\n",
    "plt.ylabel(\"Subscription Rate (y = yes)\")\n",
    "plt.ylim(0, 0.3)\n",
    "plt.grid(axis=\"y\")\n",
    "plt.tight_layout()\n",
    "plt.show()\n"
   ]
  },
  {
   "cell_type": "markdown",
   "id": "9c0ff7fd",
   "metadata": {},
   "source": [
    "Biểu đồ cho thấy những khách hàng đã từng được liên hệ trong quá khứ có tỷ lệ đăng kí cao hơn so với những chưa từng được liên hệ. Điều này cho thấy việc chăm sóc khách hàng hay cụ thể là telesale có thể mang lại hiệu quả đáng kể, giúp tăng khả năng đăng ký của khách hàng."
   ]
  },
  {
   "cell_type": "markdown",
   "id": "f2324beb",
   "metadata": {},
   "source": [
    "__2. Tỷ lệ đăng ký theo thời gian kể từ chiến dịch trước__ <br>"
   ]
  },
  {
   "cell_type": "code",
   "execution_count": null,
   "id": "7ffcdf31",
   "metadata": {},
   "outputs": [],
   "source": [
    "poutcome_rate = bank.groupby(\"poutcome\")[\"y\"].value_counts(normalize=True).unstack().fillna(0).reset_index()\n",
    "\n",
    "# Tạo bản sao để không ảnh hưởng gốc\n",
    "plot_data = poutcome_rate.copy()\n",
    "\n",
    "# Vẽ biểu đồ\n",
    "plt.figure(figsize=(6, 4))\n",
    "sns.barplot(data=plot_data, x=\"poutcome\", y=\"yes\", palette=\"Greens\")\n",
    "\n",
    "# Đổi nhãn trực tiếp trên trục\n",
    "plt.xticks(ticks=[0, 1], labels=[\"Not Successful\", \"Successful\"])\n",
    "\n",
    "plt.title(\"Subscription Rate by Previous Campaign Success\")\n",
    "plt.xlabel(\"Previous Campaign Outcome\")\n",
    "plt.ylabel(\"Subscription Rate (y = yes)\")\n",
    "plt.ylim(0, 0.8)\n",
    "plt.grid(axis=\"y\")\n",
    "plt.tight_layout()\n",
    "plt.show()\n"
   ]
  },
  {
   "cell_type": "markdown",
   "id": "13c8b856",
   "metadata": {},
   "source": [
    "\n",
    "Tỷ lệ khách hàng đã thành công trong chiến dịch trước có tỷ lệ đăng ký rất cao trong lần này do họ đã có sự tin tưởng nhất định vào sản phẩm. Vì vậy đây là nhóm khách hàng rất tiềm năng, nên được ưu tiên trong các chiến dịch mới, càn chú trọng khâu chăm sóc khách hàng để duy trì mối quan hệ và bán thêm sản phẩm."
   ]
  },
  {
   "cell_type": "markdown",
   "id": "a5f75954",
   "metadata": {},
   "source": [
    "#### VI. Phân tích cụ thể?. \n"
   ]
  },
  {
   "cell_type": "markdown",
   "id": "6710666a",
   "metadata": {},
   "source": [
    "__1. Heatmap job education y__ <br>"
   ]
  },
  {
   "cell_type": "code",
   "execution_count": null,
   "id": "b3e8ee67",
   "metadata": {},
   "outputs": [],
   "source": [
    "import pandas as pd\n",
    "import seaborn as sns\n",
    "import matplotlib.pyplot as plt\n",
    "\n",
    "# Tính tỷ lệ đăng ký theo job + education\n",
    "pivot_data = bank.groupby([\"job\", \"education\"])[\"y\"].value_counts(normalize=True).unstack().fillna(0).reset_index()\n",
    "\n",
    "# Pivot để tạo heatmap\n",
    "heatmap_data = pivot_data.pivot(index=\"job\", columns=\"education\", values=\"yes\")\n",
    "\n",
    "# Vẽ heatmap\n",
    "plt.figure(figsize=(10, 6))\n",
    "sns.heatmap(heatmap_data, annot=True, fmt=\".1%\", cmap=\"Greens\")\n",
    "plt.title(\"Subscription Rate by Job and Education\")\n",
    "plt.xlabel(\"Education Level\")\n",
    "plt.ylabel(\"Job\")\n",
    "plt.tight_layout()\n",
    "plt.show()\n"
   ]
  },
  {
   "cell_type": "markdown",
   "id": "e7132932",
   "metadata": {},
   "source": [
    "Những người với trình độ học vấn cao, có tỷ lệ đăng ký cao hơn so với trình độ primary và secondary.\n",
    "Những người làm trong các ngành chuyên môn, liên quan nhiều đến lao động trí óc như admin, entrepreneur cũng là nhóm khách hàng nên được chú trọng.\n",
    "=> Vì họ là những khách hàng hiểu được thị trường và sản phẩm, có tài chính ổn định và dễ tiếp cận\n",
    "\n",
    "\n"
   ]
  },
  {
   "cell_type": "markdown",
   "id": "b2530f9c",
   "metadata": {},
   "source": [
    "__2. Golden group__ <br>"
   ]
  },
  {
   "cell_type": "code",
   "execution_count": null,
   "id": "c3f452aa",
   "metadata": {},
   "outputs": [],
   "source": [
    "# Tính tỷ lệ đăng ký\n",
    "group_rate = bank.groupby(\"golden_group\")[\"y\"].value_counts(normalize=True).unstack().fillna(0).reset_index()\n",
    "\n",
    "# Vẽ biểu đồ\n",
    "import matplotlib.pyplot as plt\n",
    "import seaborn as sns\n",
    "\n",
    "plt.figure(figsize=(6, 4))\n",
    "sns.barplot(data=group_rate, x=\"golden_group\", y=\"yes\", palette=\"Greens\")\n",
    "plt.title(\"Subscription Rate: Golden Group vs Others\")\n",
    "plt.ylabel(\"Subscription Rate (y = yes)\")\n",
    "plt.xlabel(\"Customer Group\")\n",
    "plt.ylim(0, 0.3)\n",
    "plt.grid(axis=\"y\")\n",
    "plt.tight_layout()\n",
    "plt.show()\n"
   ]
  },
  {
   "cell_type": "markdown",
   "id": "69639dfb",
   "metadata": {},
   "source": [
    "Đây là nhóm có nguồn tiền dồi dào, không bị ràng buộc tài chính do có nguồn tài chính dồi dào và khả năng đầu tư cao hơn.\n",
    "Vì là nhóm có tỷ lệ chuyển đổi cao nhất nên cần phải có kế hoạch tiếp cận và ưu tiên tập trung nhóm khách hàng trên."
   ]
  }
 ],
 "metadata": {
  "kernelspec": {
   "display_name": "Python 3",
   "language": "python",
   "name": "python3"
  },
  "language_info": {
   "codemirror_mode": {
    "name": "ipython",
    "version": 3
   },
   "file_extension": ".py",
   "mimetype": "text/x-python",
   "name": "python",
   "nbconvert_exporter": "python",
   "pygments_lexer": "ipython3",
   "version": "3.13.2"
  }
 },
 "nbformat": 4,
 "nbformat_minor": 5
}
