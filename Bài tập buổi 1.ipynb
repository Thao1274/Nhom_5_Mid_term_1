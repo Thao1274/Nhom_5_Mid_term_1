{
 "cells": [
  {
   "cell_type": "markdown",
   "metadata": {},
   "source": [
    "Ex1. Cho hai số nguyên dương bất kỳ a và b, kiểm tra xem a có chia hết cho b hoặc b có chia hết cho a không. Nếu a chia hết cho b, in ra màn hình: “a chia hết cho b”, nếu b chia hết cho a thì in ra màn hình:\n",
    "“b chia hêt cho a”, những trường hợp còn lại thì in ra: “a và b không có mối liên hệ với nhau thông qua\n",
    "phép chia”."
   ]
  },
  {
   "cell_type": "code",
   "execution_count": null,
   "metadata": {},
   "outputs": [
    {
     "name": "stdout",
     "output_type": "stream",
     "text": [
      "b chia hết cho a\n"
     ]
    }
   ],
   "source": [
    "a = int(input(\"Nhập a: \"))\n",
    "b = int(input(\"Nhập b: \"))\n",
    "if a%b==0:\n",
    "    print(\"a chia hết cho b\")\n",
    "elif b%a==0:\n",
    "    print(\"b chia hết cho a\")\n",
    "else:\n",
    "    print(\"a và b không có mối liên hệ với nhau thông qua phép chia\")"
   ]
  },
  {
   "cell_type": "markdown",
   "metadata": {},
   "source": [
    "EX2: Cho ba số a, b, c. Kiểm tra xem ba số a, b ,c có phải là độ dài của một tam giác vuông hay không?\n",
    "Nếu đúng thì in ra màn hình: ‘độ dài ba cạnh a, b,c có thể tạo thành 1 tam giác vuông’, nếu sai in ra màn hình: ‘độ dài ba cạnh a,b,c không thể tạo thành 1 tam giá vuông’ (Gợi ý: Định lý pytago)"
   ]
  },
  {
   "cell_type": "code",
   "execution_count": 4,
   "metadata": {},
   "outputs": [
    {
     "name": "stdout",
     "output_type": "stream",
     "text": [
      "độ dài 3 cạnh a, b, c có thể tạo thành 1 tam giác vuông\n"
     ]
    }
   ],
   "source": [
    "a = float(input(\"Nhập cạnh thứ 1: \"))\n",
    "b = float(input(\"Nhập cạnh thứ 2: \"))\n",
    "c = float(input(\"Nhập cạnh thứ 3: \"))\n",
    "if a**2 == b**2 + c**2 or b**2 == a**2 + c**2 or c**2 == a**2 + b**2:\n",
    "    print(\"độ dài 3 cạnh a, b, c có thể tạo thành 1 tam giác vuông\")\n",
    "else:\n",
    "    print(\"độ dài ba cạnh a,b,c không thể tạo thành 1 tam giác vuông\")"
   ]
  },
  {
   "cell_type": "markdown",
   "metadata": {},
   "source": [
    "Ex3: Cho 1 dãy số các số nguyên bất kỳ, in ra số lượng các số chẵn, số lượng các số lẽ xuất hiện trong dãy. Lưu ý: số 0 ko phải là số chẵn cũng không phải là số lẽ"
   ]
  },
  {
   "cell_type": "code",
   "execution_count": 7,
   "metadata": {},
   "outputs": [
    {
     "name": "stdout",
     "output_type": "stream",
     "text": [
      "[1, 2, 3, 4, 5, 6, 7, 8, 9, 10]\n",
      "số lẻ 1\n",
      "số chẵn: 2\n",
      "số lẻ 3\n",
      "số chẵn: 4\n",
      "số lẻ 5\n",
      "số chẵn: 6\n",
      "số lẻ 7\n",
      "số chẵn: 8\n",
      "số lẻ 9\n",
      "số chẵn: 10\n"
     ]
    }
   ],
   "source": [
    "a = list(range(1,11))\n",
    "print(a)\n",
    "for i in a:\n",
    "    if i%2==0:\n",
    "        print(\"số chẵn:\", i)\n",
    "    elif i%2!=0:\n",
    "        print(\"số lẻ\", i)\n",
    "    else:\n",
    "        print(\"số 0\", i)"
   ]
  },
  {
   "cell_type": "markdown",
   "metadata": {},
   "source": [
    "Ex4: Cho hai số a và b bất kỳ, thực hiện phép hoán đổi giá trị của hai số a và b.\n",
    "Ví dụ: a = 5, b = 10. Out put: a = 10, b = 5"
   ]
  },
  {
   "cell_type": "code",
   "execution_count": 4,
   "metadata": {},
   "outputs": [
    {
     "name": "stdout",
     "output_type": "stream",
     "text": [
      "a là:  10\n",
      "b là:  5\n"
     ]
    }
   ],
   "source": [
    "a = input(\"Nhập a:\")\n",
    "b = input(\"Nhập b:\")\n",
    "a,b = b,a\n",
    "print(\"a là: \",a)\n",
    "print(\"b là: \",b)"
   ]
  },
  {
   "cell_type": "code",
   "execution_count": 8,
   "metadata": {},
   "outputs": [
    {
     "name": "stdout",
     "output_type": "stream",
     "text": [
      "[0, 3, 6, 9, 12, 15, 18]\n"
     ]
    }
   ],
   "source": [
    "#Ex5: Cho một dãy số nguyên bất kỳ, và một số d. Liệt kê trong dãy số đó có bao nhiêu số là bội số của d.\n",
    "d = int(input())\n",
    "a = range(int(input()))\n",
    "boisocuad=[]\n",
    "for i in a:\n",
    "    if i%d==0:\n",
    "        boisocuad.append(i)\n",
    "print(boisocuad)\n"
   ]
  },
  {
   "cell_type": "code",
   "execution_count": 9,
   "metadata": {},
   "outputs": [
    {
     "data": {
      "text/plain": [
       "65"
      ]
     },
     "execution_count": 9,
     "metadata": {},
     "output_type": "execute_result"
    }
   ],
   "source": [
    "#Ex6: Tìm giá trị lớn nhất và giá trị nhỏ nhất xuất hiện trong dãy số bất kỳ.\n",
    "a = [2,1,4,5,1,9,7,44,22,43,65]\n",
    "max(a)\n"
   ]
  },
  {
   "cell_type": "code",
   "execution_count": 12,
   "metadata": {},
   "outputs": [
    {
     "name": "stdout",
     "output_type": "stream",
     "text": [
      "3\n",
      "13\n"
     ]
    }
   ],
   "source": [
    "#Ex7: Cho một chuỗi ký tư bất kỳ (bao gồm các ký tự: ‘A’->’Z’,’a’-> ‘z’). Đếm trong chuỗi đó có bao nhiêu\n",
    "#ký tự in hoa, bao nhiêu ký tự in thường?\n",
    "kituinhoa = 0\n",
    "kituinthuong = 0\n",
    "chuoi = \"I come from Viet Nam\"\n",
    "for i in chuoi:\n",
    "    if i.isupper():\n",
    "        kituinhoa += 1\n",
    "    if i.islower():\n",
    "        kituinthuong += 1\n",
    "print(kituinhoa)\n",
    "print(kituinthuong)"
   ]
  },
  {
   "cell_type": "code",
   "execution_count": 15,
   "metadata": {},
   "outputs": [
    {
     "name": "stdout",
     "output_type": "stream",
     "text": [
      "Mật khẩu không hợp lệ (Độ dài không đúng)\n"
     ]
    }
   ],
   "source": [
    "#Ex8: Cho một dãy ký tự được xem là một password. Kiểm tra password có hợp lệ hay không.\n",
    "# Ít nhất một chữ cái nằm trong a - z\n",
    "# Ít nhất một số nằm trong 0 - 9\n",
    "# Ít nhât một kí tự nằm trong A - Z\n",
    "# Ít nhất một ký tự nằm trong $#@\n",
    "# Độ dài mật khẩu tối thiểu 6\n",
    "# Độ dài mật khẩu tối đa 12\n",
    "import string as st\n",
    "chuthuong = st.ascii_lowercase\n",
    "chuhoa = st.ascii_uppercase\n",
    "chuso = st.digits\n",
    "dacbiet = [\"$\",\"#\",\"@\"]\n",
    "matkhau = \"ABc1@\"\n",
    "list_mk = list(matkhau)\n",
    "# Khởi tạo các biến kiểm tra điều kiện:\n",
    "# Giả định rằng mật khẩu chưa có các loại ký tự này\n",
    "has_lower = False\n",
    "has_upper = False\n",
    "has_digit = False\n",
    "has_special = False\n",
    "# Kiểm tra độ dài mật khẩu\n",
    "if 6<=len(matkhau)<=12:\n",
    "    for i in list_mk:\n",
    "        if i in chuthuong:\n",
    "            has_lower = True\n",
    "        if i in chuhoa:\n",
    "            has_upper = True\n",
    "        if i in chuso:\n",
    "            has_digit = True\n",
    "        if i in dacbiet:\n",
    "            has_special = True\n",
    "    if has_digit == True and has_lower == True and has_special == True and has_upper == True:\n",
    "        print(\"Mật khẩu hợp lệ\")\n",
    "    else:\n",
    "        print(\"Mật khẩu không hợp lệ\")\n",
    "else:\n",
    "    print(\"Mật khẩu không hợp lệ (Độ dài không đúng)\")"
   ]
  },
  {
   "cell_type": "code",
   "execution_count": 18,
   "metadata": {},
   "outputs": [
    {
     "name": "stdout",
     "output_type": "stream",
     "text": [
      "[0, 10, 20, 30, 40, 50, 60, 70, 80, 90, 100, 110, 120, 130, 140, 150, 160, 170, 180, 190, 200, 210, 220, 230, 240, 250, 260, 270, 280, 290, 300, 310, 320, 330, 340, 350, 360, 370, 380, 390, 400, 410, 420, 430, 440, 450, 460, 470, 480, 490, 500, 510, 520, 530, 540, 550, 560, 570, 580, 590, 600, 610, 620, 630, 640, 650, 660, 670, 680, 690, 700, 710, 720, 730, 740, 750, 760, 770, 780, 790, 800, 810, 820, 830, 840, 850, 860, 870, 880, 890, 900, 910, 920, 930, 940, 950, 960, 970, 980, 990, 1000]\n"
     ]
    }
   ],
   "source": [
    "#Ex9. Cho một số nguyên dương a bất kỳ (a nằm trong đoạn [0,1000]). Liệt kê tất các bội số của a nằm trong đoạn [0,1000].\n",
    "a = int(input())\n",
    "if a == 0:\n",
    "    print(\"Không thể chia hết cho 0, vui lòng nhập số khác\")\n",
    "else:\n",
    "    boiso = [i for i in range(0,1001) if i%a ==0]\n",
    "    print(boiso)"
   ]
  },
  {
   "cell_type": "code",
   "execution_count": null,
   "metadata": {},
   "outputs": [],
   "source": []
  }
 ],
 "metadata": {
  "kernelspec": {
   "display_name": "Python 3",
   "language": "python",
   "name": "python3"
  },
  "language_info": {
   "codemirror_mode": {
    "name": "ipython",
    "version": 3
   },
   "file_extension": ".py",
   "mimetype": "text/x-python",
   "name": "python",
   "nbconvert_exporter": "python",
   "pygments_lexer": "ipython3",
   "version": "3.12.4"
  }
 },
 "nbformat": 4,
 "nbformat_minor": 2
}
