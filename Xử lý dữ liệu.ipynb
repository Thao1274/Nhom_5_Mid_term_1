{
 "cells": [
  {
   "cell_type": "markdown",
   "id": "7e5aa58a",
   "metadata": {},
   "source": [
    "## Input dữ liệu"
   ]
  },
  {
   "cell_type": "code",
   "execution_count": 400,
   "id": "6def509d",
   "metadata": {},
   "outputs": [],
   "source": [
    "import pandas as pd"
   ]
  },
  {
   "cell_type": "code",
   "execution_count": 401,
   "id": "ff3013ce",
   "metadata": {},
   "outputs": [],
   "source": [
    "# Import dữ liệu\n",
    "link = \"https://docs.google.com/spreadsheets/d/1ZNKbIUmS5apHKtI_WUXlwHeBkyu19wrt/edit?gid=1149835378\""
   ]
  },
  {
   "cell_type": "code",
   "execution_count": 402,
   "id": "6fddc4fb",
   "metadata": {},
   "outputs": [
    {
     "name": "stdout",
     "output_type": "stream",
     "text": [
      "   Customerid         DOB Gender                 Address  Phường/Đường  \\\n",
      "0  0000000014   4/18/1999     Nữ  hoa khe quan thanh khe       Hòa Khê   \n",
      "1  0000000034   4/16/1998    Nam                man thai      Mân Thái   \n",
      "2  0000000051  12/16/1993    Nam       que son quang nam           NaN   \n",
      "3  0000000081   11/8/1999    Nam            truong chinh  Trường Chinh   \n",
      "4  0000000098   10/1/1994    Nam                  cẩm lệ           NaN   \n",
      "\n",
      "  Quận/Huyện       Tỉnh       Website          job        industry  \n",
      "0  Thanh Khê    Đà Nẵng   KH0104|0345      student        computer  \n",
      "1    Sơn Trà    Đà Nẵng   KH0104|0333      student  health service  \n",
      "2    Quế Sơn  Quảng Nam   KH0104|0255  blue collar       economics  \n",
      "3     Cẩm Lệ    Đà Nẵng   KH0104|0293      student       economics  \n",
      "4     Cẩm Lệ    Đà Nẵng  KH0104|40580  blue collar  health service  \n"
     ]
    }
   ],
   "source": [
    "# tách chuỗi link và chỉ lấy phần 1ZNKbIUmS5apHKtI_WUXlwHeBkyu19wrt\n",
    "sheet_id = link.split(\"/d/\")[1].split(\"/\")[0]\n",
    "\n",
    "sheets = [\"customer\", \"ticket\", \"film\"]\n",
    "data = {}\n",
    "\n",
    "for name in sheets:\n",
    "    url = f\"https://docs.google.com/spreadsheets/d/{sheet_id}/gviz/tq?tqx=out:csv&sheet={name}\"\n",
    "    data[name] = pd.read_csv(url)\n",
    "\n",
    "# Gọi từng sheet nếu cần\n",
    "df_customer = data[\"customer\"]\n",
    "df_ticket = data[\"ticket\"]\n",
    "df_film = data[\"film\"]\n",
    "\n",
    "print(df_customer.head())\n"
   ]
  },
  {
   "cell_type": "code",
   "execution_count": 403,
   "id": "c6a7294b",
   "metadata": {},
   "outputs": [
    {
     "name": "stdout",
     "output_type": "stream",
     "text": [
      "<class 'pandas.core.frame.DataFrame'>\n",
      "RangeIndex: 4479 entries, 0 to 4478\n",
      "Data columns (total 10 columns):\n",
      " #   Column        Non-Null Count  Dtype \n",
      "---  ------        --------------  ----- \n",
      " 0   Customerid    4479 non-null   object\n",
      " 1   DOB           4479 non-null   object\n",
      " 2   Gender        4479 non-null   object\n",
      " 3   Address       4478 non-null   object\n",
      " 4   Phường/Đường  1298 non-null   object\n",
      " 5   Quận/Huyện    4212 non-null   object\n",
      " 6   Tỉnh          4464 non-null   object\n",
      " 7   Website       3943 non-null   object\n",
      " 8   job           4479 non-null   object\n",
      " 9   industry      3357 non-null   object\n",
      "dtypes: object(10)\n",
      "memory usage: 350.1+ KB\n",
      "None\n",
      "<class 'pandas.core.frame.DataFrame'>\n",
      "RangeIndex: 76 entries, 0 to 75\n",
      "Data columns (total 26 columns):\n",
      " #   Column        Non-Null Count  Dtype  \n",
      "---  ------        --------------  -----  \n",
      " 0   show_id       76 non-null     object \n",
      " 1   title         76 non-null     object \n",
      " 2   director      65 non-null     object \n",
      " 3   cast          69 non-null     object \n",
      " 4   country       68 non-null     object \n",
      " 5   release_year  76 non-null     int64  \n",
      " 6   rating        67 non-null     object \n",
      " 7   duration      75 non-null     object \n",
      " 8   listed_in     75 non-null     object \n",
      " 9   description   75 non-null     object \n",
      " 10  Unnamed: 10   0 non-null      float64\n",
      " 11  Unnamed: 11   0 non-null      float64\n",
      " 12  Unnamed: 12   0 non-null      float64\n",
      " 13  Unnamed: 13   0 non-null      float64\n",
      " 14  Unnamed: 14   0 non-null      float64\n",
      " 15  Unnamed: 15   0 non-null      float64\n",
      " 16  Unnamed: 16   0 non-null      float64\n",
      " 17  Unnamed: 17   0 non-null      float64\n",
      " 18  Unnamed: 18   0 non-null      float64\n",
      " 19  Unnamed: 19   0 non-null      float64\n",
      " 20  Unnamed: 20   0 non-null      float64\n",
      " 21  Unnamed: 21   0 non-null      float64\n",
      " 22  Unnamed: 22   0 non-null      float64\n",
      " 23  Unnamed: 23   0 non-null      float64\n",
      " 24  Unnamed: 24   0 non-null      float64\n",
      " 25  Unnamed: 25   0 non-null      float64\n",
      "dtypes: float64(16), int64(1), object(9)\n",
      "memory usage: 15.6+ KB\n",
      "None\n",
      "<class 'pandas.core.frame.DataFrame'>\n",
      "RangeIndex: 35474 entries, 0 to 35473\n",
      "Data columns (total 15 columns):\n",
      " #   Column        Non-Null Count  Dtype  \n",
      "---  ------        --------------  -----  \n",
      " 0   orderid       35378 non-null  object \n",
      " 1   cashier       35474 non-null  object \n",
      " 2   saledate      35378 non-null  object \n",
      " 3   total         35378 non-null  float64\n",
      " 4   customerid    35474 non-null  object \n",
      " 5   ticketcode    35474 non-null  int64  \n",
      " 6   date          35474 non-null  object \n",
      " 7   time          35474 non-null  object \n",
      " 8   slot          35474 non-null  object \n",
      " 9   room          35474 non-null  int64  \n",
      " 10  show_id       35474 non-null  object \n",
      " 11  slot type     35474 non-null  object \n",
      " 12  ticket type   35474 non-null  object \n",
      " 13  ticket price  35474 non-null  int64  \n",
      " 14  popcorn       35378 non-null  object \n",
      "dtypes: float64(1), int64(3), object(11)\n",
      "memory usage: 4.1+ MB\n",
      "None\n"
     ]
    }
   ],
   "source": [
    "# Kiểm tra thông tin của 3 sheet\n",
    "print(df_customer.info())\n",
    "print(df_film.info())\n",
    "print(df_ticket.info())"
   ]
  },
  {
   "cell_type": "markdown",
   "id": "93034d5a",
   "metadata": {},
   "source": [
    "## Chuẩn bị dữ liệu"
   ]
  },
  {
   "cell_type": "markdown",
   "id": "f1937789",
   "metadata": {},
   "source": [
    "### Chuyển đối kiểu dữ liệu"
   ]
  },
  {
   "cell_type": "code",
   "execution_count": 404,
   "id": "803663c2",
   "metadata": {},
   "outputs": [
    {
     "name": "stdout",
     "output_type": "stream",
     "text": [
      "<class 'pandas.core.frame.DataFrame'>\n",
      "RangeIndex: 4479 entries, 0 to 4478\n",
      "Data columns (total 10 columns):\n",
      " #   Column        Non-Null Count  Dtype \n",
      "---  ------        --------------  ----- \n",
      " 0   Customerid    4479 non-null   object\n",
      " 1   DOB           4479 non-null   object\n",
      " 2   Gender        4479 non-null   object\n",
      " 3   Address       4478 non-null   object\n",
      " 4   Phường/Đường  1298 non-null   object\n",
      " 5   Quận/Huyện    4212 non-null   object\n",
      " 6   Tỉnh          4464 non-null   object\n",
      " 7   Website       3943 non-null   object\n",
      " 8   job           4479 non-null   object\n",
      " 9   industry      3357 non-null   object\n",
      "dtypes: object(10)\n",
      "memory usage: 350.1+ KB\n"
     ]
    }
   ],
   "source": [
    "# Bảng customer\n",
    "df_customer.info()"
   ]
  },
  {
   "cell_type": "markdown",
   "id": "c04e8acc",
   "metadata": {},
   "source": [
    "Có thể thấy DOB đang bị sai kiểu dữ liệu, chúng ta cần chuyển sang dữ liệu date"
   ]
  },
  {
   "cell_type": "code",
   "execution_count": 405,
   "id": "7cbb094f",
   "metadata": {},
   "outputs": [],
   "source": [
    "df_customer['DOB'] = pd.to_datetime(df_customer['DOB'], errors='coerce')"
   ]
  },
  {
   "cell_type": "code",
   "execution_count": 406,
   "id": "b397961c",
   "metadata": {},
   "outputs": [
    {
     "name": "stdout",
     "output_type": "stream",
     "text": [
      "<class 'pandas.core.frame.DataFrame'>\n",
      "RangeIndex: 35474 entries, 0 to 35473\n",
      "Data columns (total 15 columns):\n",
      " #   Column        Non-Null Count  Dtype  \n",
      "---  ------        --------------  -----  \n",
      " 0   orderid       35378 non-null  object \n",
      " 1   cashier       35474 non-null  object \n",
      " 2   saledate      35378 non-null  object \n",
      " 3   total         35378 non-null  float64\n",
      " 4   customerid    35474 non-null  object \n",
      " 5   ticketcode    35474 non-null  int64  \n",
      " 6   date          35474 non-null  object \n",
      " 7   time          35474 non-null  object \n",
      " 8   slot          35474 non-null  object \n",
      " 9   room          35474 non-null  int64  \n",
      " 10  show_id       35474 non-null  object \n",
      " 11  slot type     35474 non-null  object \n",
      " 12  ticket type   35474 non-null  object \n",
      " 13  ticket price  35474 non-null  int64  \n",
      " 14  popcorn       35378 non-null  object \n",
      "dtypes: float64(1), int64(3), object(11)\n",
      "memory usage: 4.1+ MB\n"
     ]
    }
   ],
   "source": [
    "df_ticket.info()"
   ]
  },
  {
   "cell_type": "code",
   "execution_count": 407,
   "id": "d14f048f",
   "metadata": {},
   "outputs": [
    {
     "data": {
      "text/html": [
       "<div>\n",
       "<style scoped>\n",
       "    .dataframe tbody tr th:only-of-type {\n",
       "        vertical-align: middle;\n",
       "    }\n",
       "\n",
       "    .dataframe tbody tr th {\n",
       "        vertical-align: top;\n",
       "    }\n",
       "\n",
       "    .dataframe thead th {\n",
       "        text-align: right;\n",
       "    }\n",
       "</style>\n",
       "<table border=\"1\" class=\"dataframe\">\n",
       "  <thead>\n",
       "    <tr style=\"text-align: right;\">\n",
       "      <th></th>\n",
       "      <th>orderid</th>\n",
       "      <th>cashier</th>\n",
       "      <th>saledate</th>\n",
       "      <th>total</th>\n",
       "      <th>customerid</th>\n",
       "      <th>ticketcode</th>\n",
       "      <th>date</th>\n",
       "      <th>time</th>\n",
       "      <th>slot</th>\n",
       "      <th>room</th>\n",
       "      <th>show_id</th>\n",
       "      <th>slot type</th>\n",
       "      <th>ticket type</th>\n",
       "      <th>ticket price</th>\n",
       "      <th>popcorn</th>\n",
       "    </tr>\n",
       "  </thead>\n",
       "  <tbody>\n",
       "    <tr>\n",
       "      <th>0</th>\n",
       "      <td>10006052019B0225</td>\n",
       "      <td>emp002</td>\n",
       "      <td>5/6/2019</td>\n",
       "      <td>90000.0</td>\n",
       "      <td>0000000014</td>\n",
       "      <td>20074925</td>\n",
       "      <td>5/6/2019</td>\n",
       "      <td>18:15</td>\n",
       "      <td>G04</td>\n",
       "      <td>3</td>\n",
       "      <td>s966</td>\n",
       "      <td>ĐƠN</td>\n",
       "      <td>Thành viên</td>\n",
       "      <td>45000</td>\n",
       "      <td>Không</td>\n",
       "    </tr>\n",
       "  </tbody>\n",
       "</table>\n",
       "</div>"
      ],
      "text/plain": [
       "            orderid cashier  saledate    total  customerid  ticketcode  \\\n",
       "0  10006052019B0225  emp002  5/6/2019  90000.0  0000000014    20074925   \n",
       "\n",
       "       date   time slot  room show_id slot type ticket type  ticket price  \\\n",
       "0  5/6/2019  18:15  G04     3    s966       ĐƠN  Thành viên         45000   \n",
       "\n",
       "  popcorn  \n",
       "0   Không  "
      ]
     },
     "execution_count": 407,
     "metadata": {},
     "output_type": "execute_result"
    }
   ],
   "source": [
    "df_ticket.head(1)"
   ]
  },
  {
   "cell_type": "markdown",
   "id": "b21d3062",
   "metadata": {},
   "source": [
    "saledate, total, D/O/B, age, date,time đang bị sai kiểu dữ liệu"
   ]
  },
  {
   "cell_type": "code",
   "execution_count": 408,
   "id": "3f575a29",
   "metadata": {},
   "outputs": [],
   "source": [
    "df_ticket['saledate'] = pd.to_datetime(df_ticket['saledate'], errors='coerce')\n",
    "df_ticket['date'] = pd.to_datetime(df_ticket['date'], errors='coerce')\n",
    "df_ticket['time'] = pd.to_datetime(df_ticket['time'], format='%H:%M', errors='coerce').dt.time\n",
    "df_ticket['total'] = pd.to_numeric(df_ticket['total'], errors='coerce').fillna(0).astype(int)"
   ]
  },
  {
   "cell_type": "code",
   "execution_count": 409,
   "id": "e3da6793",
   "metadata": {},
   "outputs": [],
   "source": [
    "# check thấy data này có nhiều cột dư thừa và cần loại bỏ\n",
    "df_film = df_film.drop(df_film.columns[10:25], axis=1)"
   ]
  },
  {
   "cell_type": "markdown",
   "id": "88407bcf",
   "metadata": {},
   "source": [
    "### Xử lý missing value"
   ]
  },
  {
   "cell_type": "markdown",
   "id": "42f515d7",
   "metadata": {},
   "source": [
    "#### Bảng Customer"
   ]
  },
  {
   "cell_type": "code",
   "execution_count": 410,
   "id": "f9e41839",
   "metadata": {},
   "outputs": [
    {
     "data": {
      "text/html": [
       "<div>\n",
       "<style scoped>\n",
       "    .dataframe tbody tr th:only-of-type {\n",
       "        vertical-align: middle;\n",
       "    }\n",
       "\n",
       "    .dataframe tbody tr th {\n",
       "        vertical-align: top;\n",
       "    }\n",
       "\n",
       "    .dataframe thead th {\n",
       "        text-align: right;\n",
       "    }\n",
       "</style>\n",
       "<table border=\"1\" class=\"dataframe\">\n",
       "  <thead>\n",
       "    <tr style=\"text-align: right;\">\n",
       "      <th></th>\n",
       "      <th>Customerid</th>\n",
       "      <th>DOB</th>\n",
       "      <th>Gender</th>\n",
       "      <th>Address</th>\n",
       "      <th>Phường/Đường</th>\n",
       "      <th>Quận/Huyện</th>\n",
       "      <th>Tỉnh</th>\n",
       "      <th>Website</th>\n",
       "      <th>job</th>\n",
       "      <th>industry</th>\n",
       "    </tr>\n",
       "  </thead>\n",
       "  <tbody>\n",
       "    <tr>\n",
       "      <th>0</th>\n",
       "      <td>0000000014</td>\n",
       "      <td>1999-04-18</td>\n",
       "      <td>Nữ</td>\n",
       "      <td>hoa khe quan thanh khe</td>\n",
       "      <td>Hòa Khê</td>\n",
       "      <td>Thanh Khê</td>\n",
       "      <td>Đà Nẵng</td>\n",
       "      <td>KH0104|0345</td>\n",
       "      <td>student</td>\n",
       "      <td>computer</td>\n",
       "    </tr>\n",
       "    <tr>\n",
       "      <th>1</th>\n",
       "      <td>0000000034</td>\n",
       "      <td>1998-04-16</td>\n",
       "      <td>Nam</td>\n",
       "      <td>man thai</td>\n",
       "      <td>Mân Thái</td>\n",
       "      <td>Sơn Trà</td>\n",
       "      <td>Đà Nẵng</td>\n",
       "      <td>KH0104|0333</td>\n",
       "      <td>student</td>\n",
       "      <td>health service</td>\n",
       "    </tr>\n",
       "    <tr>\n",
       "      <th>2</th>\n",
       "      <td>0000000051</td>\n",
       "      <td>1993-12-16</td>\n",
       "      <td>Nam</td>\n",
       "      <td>que son quang nam</td>\n",
       "      <td>NaN</td>\n",
       "      <td>Quế Sơn</td>\n",
       "      <td>Quảng Nam</td>\n",
       "      <td>KH0104|0255</td>\n",
       "      <td>blue collar</td>\n",
       "      <td>economics</td>\n",
       "    </tr>\n",
       "    <tr>\n",
       "      <th>3</th>\n",
       "      <td>0000000081</td>\n",
       "      <td>1999-11-08</td>\n",
       "      <td>Nam</td>\n",
       "      <td>truong chinh</td>\n",
       "      <td>Trường Chinh</td>\n",
       "      <td>Cẩm Lệ</td>\n",
       "      <td>Đà Nẵng</td>\n",
       "      <td>KH0104|0293</td>\n",
       "      <td>student</td>\n",
       "      <td>economics</td>\n",
       "    </tr>\n",
       "    <tr>\n",
       "      <th>4</th>\n",
       "      <td>0000000098</td>\n",
       "      <td>1994-10-01</td>\n",
       "      <td>Nam</td>\n",
       "      <td>cẩm lệ</td>\n",
       "      <td>NaN</td>\n",
       "      <td>Cẩm Lệ</td>\n",
       "      <td>Đà Nẵng</td>\n",
       "      <td>KH0104|40580</td>\n",
       "      <td>blue collar</td>\n",
       "      <td>health service</td>\n",
       "    </tr>\n",
       "  </tbody>\n",
       "</table>\n",
       "</div>"
      ],
      "text/plain": [
       "   Customerid        DOB Gender                 Address  Phường/Đường  \\\n",
       "0  0000000014 1999-04-18     Nữ  hoa khe quan thanh khe       Hòa Khê   \n",
       "1  0000000034 1998-04-16    Nam                man thai      Mân Thái   \n",
       "2  0000000051 1993-12-16    Nam       que son quang nam           NaN   \n",
       "3  0000000081 1999-11-08    Nam            truong chinh  Trường Chinh   \n",
       "4  0000000098 1994-10-01    Nam                  cẩm lệ           NaN   \n",
       "\n",
       "  Quận/Huyện       Tỉnh       Website          job        industry  \n",
       "0  Thanh Khê    Đà Nẵng   KH0104|0345      student        computer  \n",
       "1    Sơn Trà    Đà Nẵng   KH0104|0333      student  health service  \n",
       "2    Quế Sơn  Quảng Nam   KH0104|0255  blue collar       economics  \n",
       "3     Cẩm Lệ    Đà Nẵng   KH0104|0293      student       economics  \n",
       "4     Cẩm Lệ    Đà Nẵng  KH0104|40580  blue collar  health service  "
      ]
     },
     "execution_count": 410,
     "metadata": {},
     "output_type": "execute_result"
    }
   ],
   "source": [
    "df_customer.head()"
   ]
  },
  {
   "cell_type": "code",
   "execution_count": 411,
   "id": "b7757aae",
   "metadata": {},
   "outputs": [
    {
     "name": "stdout",
     "output_type": "stream",
     "text": [
      "<class 'pandas.core.frame.DataFrame'>\n",
      "RangeIndex: 4479 entries, 0 to 4478\n",
      "Data columns (total 10 columns):\n",
      " #   Column        Non-Null Count  Dtype         \n",
      "---  ------        --------------  -----         \n",
      " 0   Customerid    4479 non-null   object        \n",
      " 1   DOB           4476 non-null   datetime64[ns]\n",
      " 2   Gender        4479 non-null   object        \n",
      " 3   Address       4478 non-null   object        \n",
      " 4   Phường/Đường  1298 non-null   object        \n",
      " 5   Quận/Huyện    4212 non-null   object        \n",
      " 6   Tỉnh          4464 non-null   object        \n",
      " 7   Website       3943 non-null   object        \n",
      " 8   job           4479 non-null   object        \n",
      " 9   industry      3357 non-null   object        \n",
      "dtypes: datetime64[ns](1), object(9)\n",
      "memory usage: 350.1+ KB\n"
     ]
    }
   ],
   "source": [
    "df_customer.info()"
   ]
  },
  {
   "cell_type": "code",
   "execution_count": 412,
   "id": "dfcd2230",
   "metadata": {},
   "outputs": [
    {
     "data": {
      "text/plain": [
       "Customerid         0\n",
       "DOB                3\n",
       "Gender             0\n",
       "Address            1\n",
       "Phường/Đường    3181\n",
       "Quận/Huyện       267\n",
       "Tỉnh              15\n",
       "Website          536\n",
       "job                0\n",
       "industry        1122\n",
       "dtype: int64"
      ]
     },
     "execution_count": 412,
     "metadata": {},
     "output_type": "execute_result"
    }
   ],
   "source": [
    "# Kiểm tra xem có bao nhiêu giá trị null\n",
    "df_customer.isnull().sum()"
   ]
  },
  {
   "cell_type": "code",
   "execution_count": 413,
   "id": "ba425f44",
   "metadata": {},
   "outputs": [],
   "source": [
    "df_customer_industry_null = df_customer[df_customer['industry'].isna()]"
   ]
  },
  {
   "cell_type": "code",
   "execution_count": 414,
   "id": "10c87b95",
   "metadata": {},
   "outputs": [
    {
     "data": {
      "text/plain": [
       "array(['teenager'], dtype=object)"
      ]
     },
     "execution_count": 414,
     "metadata": {},
     "output_type": "execute_result"
    }
   ],
   "source": [
    "df_customer_industry_null['job'].unique()"
   ]
  },
  {
   "cell_type": "markdown",
   "id": "e6e3ec07",
   "metadata": {},
   "source": [
    "Giá trị industry bị na ứng với nghề nghiệp là teenager, có thể fill giá trị na trong cột industry là ducation."
   ]
  },
  {
   "cell_type": "code",
   "execution_count": 415,
   "id": "299466c7",
   "metadata": {},
   "outputs": [],
   "source": [
    "df_customer[['industry']] = df_customer[['industry']].fillna('education')"
   ]
  },
  {
   "cell_type": "code",
   "execution_count": 416,
   "id": "8a603b02",
   "metadata": {},
   "outputs": [
    {
     "name": "stderr",
     "output_type": "stream",
     "text": [
      "C:\\Users\\Admin\\AppData\\Local\\Temp\\ipykernel_17492\\739880111.py:4: SettingWithCopyWarning: \n",
      "A value is trying to be set on a copy of a slice from a DataFrame.\n",
      "Try using .loc[row_indexer,col_indexer] = value instead\n",
      "\n",
      "See the caveats in the documentation: https://pandas.pydata.org/pandas-docs/stable/user_guide/indexing.html#returning-a-view-versus-a-copy\n",
      "  df_customer[[\"Phường/Đường\",\"Quận/Huyện\",\"Website\"]] = df_customer[[\"Phường/Đường\",\"Quận/Huyện\",\"Website\"]].fillna(\"Chưa biết\")\n"
     ]
    }
   ],
   "source": [
    "# Nhận thấy dữ liệu ở cột Address và Tỉnh bị miss số lượng nhỏ, không ảnh hưởng quá nhiều nếu phân phối dữ liệu, có thể xóa những giá trị đó khỏi tập dữ liệu.\n",
    "df_customer = df_customer.dropna(subset = [\"Tỉnh\",\"Address\",\"DOB\"])\n",
    "# Còn những dữ liệu bị thiếu ở cột khác, chuyển dữ liệu thành chưa biết, tránh ảnh hưởng đến phân phối dữ liệu\n",
    "df_customer[[\"Phường/Đường\",\"Quận/Huyện\",\"Website\"]] = df_customer[[\"Phường/Đường\",\"Quận/Huyện\",\"Website\"]].fillna(\"Chưa biết\")"
   ]
  },
  {
   "cell_type": "markdown",
   "id": "b4935ace",
   "metadata": {},
   "source": [
    "#### Bảng Ticket"
   ]
  },
  {
   "cell_type": "code",
   "execution_count": 417,
   "id": "e5c1b66f",
   "metadata": {},
   "outputs": [
    {
     "data": {
      "text/plain": [
       "orderid         96\n",
       "cashier          0\n",
       "saledate        96\n",
       "total            0\n",
       "customerid       0\n",
       "ticketcode       0\n",
       "date             0\n",
       "time             0\n",
       "slot             0\n",
       "room             0\n",
       "show_id          0\n",
       "slot type        0\n",
       "ticket type      0\n",
       "ticket price     0\n",
       "popcorn         96\n",
       "dtype: int64"
      ]
     },
     "execution_count": 417,
     "metadata": {},
     "output_type": "execute_result"
    }
   ],
   "source": [
    "df_ticket.isna().sum()"
   ]
  },
  {
   "cell_type": "code",
   "execution_count": 418,
   "id": "3007bf31",
   "metadata": {},
   "outputs": [],
   "source": [
    "# Nhận thấy giá trị bị null không ảnh hưởng nhiều đến phân phối dữ liệu, có thể loại bỏ, vì số lượng giá trị bị null chiếm phần nhỏ.\n",
    "df_ticket = df_ticket.dropna(subset=[\"orderid\"])"
   ]
  },
  {
   "cell_type": "code",
   "execution_count": 419,
   "id": "075a485f",
   "metadata": {},
   "outputs": [
    {
     "data": {
      "text/plain": [
       "orderid         0\n",
       "cashier         0\n",
       "saledate        0\n",
       "total           0\n",
       "customerid      0\n",
       "ticketcode      0\n",
       "date            0\n",
       "time            0\n",
       "slot            0\n",
       "room            0\n",
       "show_id         0\n",
       "slot type       0\n",
       "ticket type     0\n",
       "ticket price    0\n",
       "popcorn         0\n",
       "dtype: int64"
      ]
     },
     "execution_count": 419,
     "metadata": {},
     "output_type": "execute_result"
    }
   ],
   "source": [
    "df_ticket.isna().sum()"
   ]
  },
  {
   "cell_type": "code",
   "execution_count": 420,
   "id": "c9f7240b",
   "metadata": {},
   "outputs": [],
   "source": [
    "# Các giá trị bị null cùng một hàng liên kết với nhau, như trên, chỉ cần xóa 1 cột các giá trị null khác cũng được loại bỏ"
   ]
  },
  {
   "cell_type": "markdown",
   "id": "11edbf9c",
   "metadata": {},
   "source": [
    "#### Bảng Film"
   ]
  },
  {
   "cell_type": "code",
   "execution_count": 421,
   "id": "01fec04d",
   "metadata": {},
   "outputs": [
    {
     "data": {
      "text/plain": [
       "show_id          0\n",
       "title            0\n",
       "director        11\n",
       "cast             7\n",
       "country          8\n",
       "release_year     0\n",
       "rating           9\n",
       "duration         1\n",
       "listed_in        1\n",
       "description      1\n",
       "Unnamed: 25     76\n",
       "dtype: int64"
      ]
     },
     "execution_count": 421,
     "metadata": {},
     "output_type": "execute_result"
    }
   ],
   "source": [
    "df_film.isna().sum()"
   ]
  },
  {
   "cell_type": "code",
   "execution_count": 422,
   "id": "3e93351e",
   "metadata": {},
   "outputs": [],
   "source": [
    "# Do số lượng những giá trị null ít nhưng số hàng ở bảng film cũng khá ít, chúng em đã dựa trên thông tin của bộ phim để cố gắng fill vào chỗ na\n",
    "df_film_director_null = df_film[df_film['director'].isnull()]"
   ]
  },
  {
   "cell_type": "code",
   "execution_count": 423,
   "id": "d0ddaac2",
   "metadata": {},
   "outputs": [],
   "source": [
    "update_dict = {\n",
    "    'Man vs. Shark': 'David Diley',\n",
    "    'Lost City of Machu Picchu': 'Chưa biết',\n",
    "    'Oil Spill of The Century': 'Fabrice Gardel, Josselin Mahot',\n",
    "    \"Star Wars: Galaxy's Edge-Adventure Awaits\": 'Christian Lamb',\n",
    "    'Women Of Impact: Changing The World': 'Lisa Feit',\n",
    "    'Marvel Rising: Battle of The Bands': 'Chris Rutkowski',\n",
    "    'Marvel Rising: Chasing Ghosts': 'Alfred Gimeno',\n",
    "    'Marvel Rising: Heart of Iron': 'Sol Choi',\n",
    "    'Happy Birthday, Mickey!': 'Bert Gillett',\n",
    "    'Marvel Studios: Expanding the Universe': 'Jon Watts',\n",
    "    '(PĐ) DORAEMON: NOBITA VÀ MẶT TRĂNG PHIÊU LƯU KÝ (G)': 'Yakuwa Shinnosuke' \n",
    "}"
   ]
  },
  {
   "cell_type": "code",
   "execution_count": 424,
   "id": "f35c25f7",
   "metadata": {},
   "outputs": [],
   "source": [
    "for title, director in update_dict.items():\n",
    "    df_film.loc[\n",
    "        (df_film['title'] == title) & (df_film['director'].isnull()),\n",
    "        'director'\n",
    "    ] = director\n"
   ]
  },
  {
   "cell_type": "code",
   "execution_count": 425,
   "id": "9ae2040e",
   "metadata": {},
   "outputs": [
    {
     "data": {
      "text/html": [
       "<div>\n",
       "<style scoped>\n",
       "    .dataframe tbody tr th:only-of-type {\n",
       "        vertical-align: middle;\n",
       "    }\n",
       "\n",
       "    .dataframe tbody tr th {\n",
       "        vertical-align: top;\n",
       "    }\n",
       "\n",
       "    .dataframe thead th {\n",
       "        text-align: right;\n",
       "    }\n",
       "</style>\n",
       "<table border=\"1\" class=\"dataframe\">\n",
       "  <thead>\n",
       "    <tr style=\"text-align: right;\">\n",
       "      <th></th>\n",
       "      <th>show_id</th>\n",
       "      <th>title</th>\n",
       "      <th>director</th>\n",
       "      <th>cast</th>\n",
       "      <th>country</th>\n",
       "      <th>release_year</th>\n",
       "      <th>rating</th>\n",
       "      <th>duration</th>\n",
       "      <th>listed_in</th>\n",
       "      <th>description</th>\n",
       "      <th>Unnamed: 25</th>\n",
       "    </tr>\n",
       "  </thead>\n",
       "  <tbody>\n",
       "    <tr>\n",
       "      <th>2</th>\n",
       "      <td>s194</td>\n",
       "      <td>Disney My Music Story: Perfume</td>\n",
       "      <td>Kentaro Takayanagi</td>\n",
       "      <td>a-chan , KASHIYUKA , NOCCHi</td>\n",
       "      <td>NaN</td>\n",
       "      <td>2019</td>\n",
       "      <td>NaN</td>\n",
       "      <td>53 min</td>\n",
       "      <td>Biographical, Documentary, Music</td>\n",
       "      <td>J-Pop band Perfume shares their passion for mu...</td>\n",
       "      <td>NaN</td>\n",
       "    </tr>\n",
       "    <tr>\n",
       "      <th>4</th>\n",
       "      <td>s241</td>\n",
       "      <td>Great Shark Chow Down</td>\n",
       "      <td>Mark Woodward</td>\n",
       "      <td>Dan Nachtrab</td>\n",
       "      <td>NaN</td>\n",
       "      <td>2019</td>\n",
       "      <td>TV-PG</td>\n",
       "      <td>45 min</td>\n",
       "      <td>Animals &amp; Nature, Documentary</td>\n",
       "      <td>Great Shark Chow Down â€“ prepare for a feast ...</td>\n",
       "      <td>NaN</td>\n",
       "    </tr>\n",
       "    <tr>\n",
       "      <th>7</th>\n",
       "      <td>s289</td>\n",
       "      <td>Ultimate Viking Sword</td>\n",
       "      <td>Peter Yost</td>\n",
       "      <td>Jay Sanders</td>\n",
       "      <td>NaN</td>\n",
       "      <td>2019</td>\n",
       "      <td>TV-PG</td>\n",
       "      <td>45 min</td>\n",
       "      <td>Documentary, Historical</td>\n",
       "      <td>National Geographic reconstructs the Ulfberht,...</td>\n",
       "      <td>NaN</td>\n",
       "    </tr>\n",
       "    <tr>\n",
       "      <th>9</th>\n",
       "      <td>s313</td>\n",
       "      <td>Oil Spill of The Century</td>\n",
       "      <td>Fabrice Gardel, Josselin Mahot</td>\n",
       "      <td>LoÃ¯ck Peyron</td>\n",
       "      <td>NaN</td>\n",
       "      <td>2019</td>\n",
       "      <td>TV-PG</td>\n",
       "      <td>45 min</td>\n",
       "      <td>Documentary, Historical</td>\n",
       "      <td>LoÃ¯ck Peyron investigates the 1978 Amoco Cadi...</td>\n",
       "      <td>NaN</td>\n",
       "    </tr>\n",
       "    <tr>\n",
       "      <th>14</th>\n",
       "      <td>s433</td>\n",
       "      <td>Chasing the Equinox</td>\n",
       "      <td>Kenny Scott</td>\n",
       "      <td>Stefan Frank</td>\n",
       "      <td>NaN</td>\n",
       "      <td>2019</td>\n",
       "      <td>TV-PG</td>\n",
       "      <td>45 min</td>\n",
       "      <td>Documentary</td>\n",
       "      <td>Ancient civilizations shared an incredible kno...</td>\n",
       "      <td>NaN</td>\n",
       "    </tr>\n",
       "    <tr>\n",
       "      <th>42</th>\n",
       "      <td>s632</td>\n",
       "      <td>Happy Birthday, Mickey!</td>\n",
       "      <td>Bert Gillett</td>\n",
       "      <td>NaN</td>\n",
       "      <td>NaN</td>\n",
       "      <td>2019</td>\n",
       "      <td>TV-G</td>\n",
       "      <td>2 min</td>\n",
       "      <td>Animation, Comedy, Dance</td>\n",
       "      <td>Celebrating Mickey, the worldâ€™s most beloved...</td>\n",
       "      <td>NaN</td>\n",
       "    </tr>\n",
       "    <tr>\n",
       "      <th>53</th>\n",
       "      <td>s963</td>\n",
       "      <td>Marvel Studios: Expanding the Universe</td>\n",
       "      <td>Jon Watts</td>\n",
       "      <td>NaN</td>\n",
       "      <td>NaN</td>\n",
       "      <td>2019</td>\n",
       "      <td>TV-PG</td>\n",
       "      <td>13 min</td>\n",
       "      <td>Documentary, Family</td>\n",
       "      <td>An exciting look into the future of Marvel Stu...</td>\n",
       "      <td>NaN</td>\n",
       "    </tr>\n",
       "    <tr>\n",
       "      <th>73</th>\n",
       "      <td>s1244</td>\n",
       "      <td>(PĐ) DORAEMON: NOBITA VÀ MẶT TRĂNG PHIÊU LƯU K...</td>\n",
       "      <td>Yakuwa Shinnosuke</td>\n",
       "      <td>NaN</td>\n",
       "      <td>NaN</td>\n",
       "      <td>2019</td>\n",
       "      <td>NaN</td>\n",
       "      <td>NaN</td>\n",
       "      <td>NaN</td>\n",
       "      <td>NaN</td>\n",
       "      <td>NaN</td>\n",
       "    </tr>\n",
       "  </tbody>\n",
       "</table>\n",
       "</div>"
      ],
      "text/plain": [
       "   show_id                                              title  \\\n",
       "2     s194                     Disney My Music Story: Perfume   \n",
       "4     s241                              Great Shark Chow Down   \n",
       "7     s289                              Ultimate Viking Sword   \n",
       "9     s313                           Oil Spill of The Century   \n",
       "14    s433                                Chasing the Equinox   \n",
       "42    s632                            Happy Birthday, Mickey!   \n",
       "53    s963             Marvel Studios: Expanding the Universe   \n",
       "73   s1244  (PĐ) DORAEMON: NOBITA VÀ MẶT TRĂNG PHIÊU LƯU K...   \n",
       "\n",
       "                          director                         cast country  \\\n",
       "2               Kentaro Takayanagi  a-chan , KASHIYUKA , NOCCHi     NaN   \n",
       "4                    Mark Woodward                 Dan Nachtrab     NaN   \n",
       "7                       Peter Yost                  Jay Sanders     NaN   \n",
       "9   Fabrice Gardel, Josselin Mahot                LoÃ¯ck Peyron     NaN   \n",
       "14                     Kenny Scott                 Stefan Frank     NaN   \n",
       "42                    Bert Gillett                          NaN     NaN   \n",
       "53                       Jon Watts                          NaN     NaN   \n",
       "73               Yakuwa Shinnosuke                          NaN     NaN   \n",
       "\n",
       "    release_year rating duration                         listed_in  \\\n",
       "2           2019    NaN   53 min  Biographical, Documentary, Music   \n",
       "4           2019  TV-PG   45 min     Animals & Nature, Documentary   \n",
       "7           2019  TV-PG   45 min           Documentary, Historical   \n",
       "9           2019  TV-PG   45 min           Documentary, Historical   \n",
       "14          2019  TV-PG   45 min                       Documentary   \n",
       "42          2019   TV-G    2 min          Animation, Comedy, Dance   \n",
       "53          2019  TV-PG   13 min               Documentary, Family   \n",
       "73          2019    NaN      NaN                               NaN   \n",
       "\n",
       "                                          description  Unnamed: 25  \n",
       "2   J-Pop band Perfume shares their passion for mu...          NaN  \n",
       "4   Great Shark Chow Down â€“ prepare for a feast ...          NaN  \n",
       "7   National Geographic reconstructs the Ulfberht,...          NaN  \n",
       "9   LoÃ¯ck Peyron investigates the 1978 Amoco Cadi...          NaN  \n",
       "14  Ancient civilizations shared an incredible kno...          NaN  \n",
       "42  Celebrating Mickey, the worldâ€™s most beloved...          NaN  \n",
       "53  An exciting look into the future of Marvel Stu...          NaN  \n",
       "73                                                NaN          NaN  "
      ]
     },
     "execution_count": 425,
     "metadata": {},
     "output_type": "execute_result"
    }
   ],
   "source": [
    "# Và khi chọn 1 bộ phim, bộ phim đến từ nước nào cũng rất quan trọng, đó là lý do nên fill cột country\n",
    "df_film_country_null = df_film[df_film['country'].isnull()]\n",
    "df_film_country_null"
   ]
  },
  {
   "cell_type": "code",
   "execution_count": 426,
   "id": "f69f8ff9",
   "metadata": {},
   "outputs": [],
   "source": [
    "update_country = {\n",
    "    'Disney My Music Story: Perfume': 'Japan',\n",
    "    'Great Shark Chow Down': 'United States',\n",
    "    'Ultimate Viking Sword': 'United States',\n",
    "    \"Oil Spill of The Century\": 'United States',\n",
    "    'Chasing the Equinox': 'United States',\n",
    "    'Happy Birthday, Mickey!': 'United States',\n",
    "    'Marvel Studios: Expanding the Universe': 'United States',\n",
    "    '(PĐ) DORAEMON: NOBITA VÀ MẶT TRĂNG PHIÊU LƯU KÝ (G)': 'Japan' \n",
    "}"
   ]
  },
  {
   "cell_type": "code",
   "execution_count": 427,
   "id": "ef32c0c7",
   "metadata": {},
   "outputs": [],
   "source": [
    "for title, country in update_country.items():\n",
    "    df_film.loc[\n",
    "        (df_film['title'] == title) & (df_film['country'].isnull()),\n",
    "        'country'\n",
    "    ] = country"
   ]
  },
  {
   "cell_type": "code",
   "execution_count": 428,
   "id": "3b647c2b",
   "metadata": {},
   "outputs": [],
   "source": [
    "df_film_rating_null = df_film[df_film['rating'].isna()]"
   ]
  },
  {
   "cell_type": "code",
   "execution_count": 429,
   "id": "3a1fceba",
   "metadata": {},
   "outputs": [
    {
     "data": {
      "text/html": [
       "<div>\n",
       "<style scoped>\n",
       "    .dataframe tbody tr th:only-of-type {\n",
       "        vertical-align: middle;\n",
       "    }\n",
       "\n",
       "    .dataframe tbody tr th {\n",
       "        vertical-align: top;\n",
       "    }\n",
       "\n",
       "    .dataframe thead th {\n",
       "        text-align: right;\n",
       "    }\n",
       "</style>\n",
       "<table border=\"1\" class=\"dataframe\">\n",
       "  <thead>\n",
       "    <tr style=\"text-align: right;\">\n",
       "      <th></th>\n",
       "      <th>show_id</th>\n",
       "      <th>title</th>\n",
       "      <th>director</th>\n",
       "      <th>cast</th>\n",
       "      <th>country</th>\n",
       "      <th>release_year</th>\n",
       "      <th>rating</th>\n",
       "      <th>duration</th>\n",
       "      <th>listed_in</th>\n",
       "      <th>description</th>\n",
       "      <th>Unnamed: 25</th>\n",
       "    </tr>\n",
       "  </thead>\n",
       "  <tbody>\n",
       "    <tr>\n",
       "      <th>2</th>\n",
       "      <td>s194</td>\n",
       "      <td>Disney My Music Story: Perfume</td>\n",
       "      <td>Kentaro Takayanagi</td>\n",
       "      <td>a-chan , KASHIYUKA , NOCCHi</td>\n",
       "      <td>Japan</td>\n",
       "      <td>2019</td>\n",
       "      <td>NaN</td>\n",
       "      <td>53 min</td>\n",
       "      <td>Biographical, Documentary, Music</td>\n",
       "      <td>J-Pop band Perfume shares their passion for mu...</td>\n",
       "      <td>NaN</td>\n",
       "    </tr>\n",
       "    <tr>\n",
       "      <th>61</th>\n",
       "      <td>s1232</td>\n",
       "      <td>NGÔI ĐỀN KỲ QUÁI  (Pee Nak)</td>\n",
       "      <td>Phontharis Chotkijsadarsopon</td>\n",
       "      <td>Chinawut Indracusin, Chutima Naina, Wachara Pa...</td>\n",
       "      <td>Thailand</td>\n",
       "      <td>2019</td>\n",
       "      <td>NaN</td>\n",
       "      <td>108 min</td>\n",
       "      <td>Comedy, Horror</td>\n",
       "      <td>Three men on their way to monk-hood, don't rea...</td>\n",
       "      <td>NaN</td>\n",
       "    </tr>\n",
       "    <tr>\n",
       "      <th>62</th>\n",
       "      <td>s1233</td>\n",
       "      <td>VÔ GIAN ĐẠO (C18)</td>\n",
       "      <td>Trần Việt Anh</td>\n",
       "      <td>La Thành, Xuân Nghị, Huỳnh Anh</td>\n",
       "      <td>Vietnam</td>\n",
       "      <td>2019</td>\n",
       "      <td>NaN</td>\n",
       "      <td>113 min</td>\n",
       "      <td>Comedy, Crime, Thriller</td>\n",
       "      <td>Chay is a professional gambler. He and Dao, Th...</td>\n",
       "      <td>NaN</td>\n",
       "    </tr>\n",
       "    <tr>\n",
       "      <th>65</th>\n",
       "      <td>s1236</td>\n",
       "      <td>THẰNG EM LÝ TƯỞNG (Inseparable Bros)</td>\n",
       "      <td>Yook Sang-hyo</td>\n",
       "      <td>Shin Ha Kyun,Lee Kwang Soo,Esom</td>\n",
       "      <td>Korea</td>\n",
       "      <td>2019</td>\n",
       "      <td>NaN</td>\n",
       "      <td>114 min</td>\n",
       "      <td>Comedy, Drama</td>\n",
       "      <td>Se-Ha is intelligent, but confined to a wheelc...</td>\n",
       "      <td>NaN</td>\n",
       "    </tr>\n",
       "    <tr>\n",
       "      <th>69</th>\n",
       "      <td>s1240</td>\n",
       "      <td>(LT) DORAEMON: NOBITA VÀ MẶT TRĂNG PHIÊU LƯU K...</td>\n",
       "      <td>Shinnosuke Yakuwa, Lee Jeong-beom</td>\n",
       "      <td>Wasabi Mizuta, Megumi Oohara, Yumi Kakazu, Tom...</td>\n",
       "      <td>Japan</td>\n",
       "      <td>2019</td>\n",
       "      <td>NaN</td>\n",
       "      <td>111 min</td>\n",
       "      <td>Animation, Action, Adventure</td>\n",
       "      <td>Nobita saw a moon turned yellow last night and...</td>\n",
       "      <td>NaN</td>\n",
       "    </tr>\n",
       "    <tr>\n",
       "      <th>70</th>\n",
       "      <td>s1241</td>\n",
       "      <td>LẬT MẶT: NHÀ CÓ KHÁCH</td>\n",
       "      <td>Lý Hải</td>\n",
       "      <td>Ly Hai, Huy Khanh, Thong, Jay Quan</td>\n",
       "      <td>Vietnam</td>\n",
       "      <td>2019</td>\n",
       "      <td>NaN</td>\n",
       "      <td>100 min</td>\n",
       "      <td>Comedy, Horror</td>\n",
       "      <td>When a woman and her friends visit her home vi...</td>\n",
       "      <td>NaN</td>\n",
       "    </tr>\n",
       "    <tr>\n",
       "      <th>72</th>\n",
       "      <td>s1243</td>\n",
       "      <td>NỤ HÔN MA QUÁI (Sang Krasue)</td>\n",
       "      <td>Sitisiri Mongkolsiri</td>\n",
       "      <td>Phantira Pipityakorn, Oabnithi Wiwattanawarang...</td>\n",
       "      <td>Thailand</td>\n",
       "      <td>2019</td>\n",
       "      <td>NaN</td>\n",
       "      <td>122 min</td>\n",
       "      <td>Drama, Horror, Romance</td>\n",
       "      <td>In a far-away village, lived an innocent teena...</td>\n",
       "      <td>NaN</td>\n",
       "    </tr>\n",
       "    <tr>\n",
       "      <th>73</th>\n",
       "      <td>s1244</td>\n",
       "      <td>(PĐ) DORAEMON: NOBITA VÀ MẶT TRĂNG PHIÊU LƯU K...</td>\n",
       "      <td>Yakuwa Shinnosuke</td>\n",
       "      <td>NaN</td>\n",
       "      <td>Japan</td>\n",
       "      <td>2019</td>\n",
       "      <td>NaN</td>\n",
       "      <td>NaN</td>\n",
       "      <td>NaN</td>\n",
       "      <td>NaN</td>\n",
       "      <td>NaN</td>\n",
       "    </tr>\n",
       "    <tr>\n",
       "      <th>75</th>\n",
       "      <td>s1246</td>\n",
       "      <td>CÀ CHỚN ANH ĐỪNG ĐI</td>\n",
       "      <td>Đỗ Cường</td>\n",
       "      <td>Kiều Trinh, Xuân Phúc, Đức Hải, Trang Hí</td>\n",
       "      <td>Vietnam</td>\n",
       "      <td>2019</td>\n",
       "      <td>NaN</td>\n",
       "      <td>90 min</td>\n",
       "      <td>Romance</td>\n",
       "      <td>Tue Nhi, who studied music composition, is hav...</td>\n",
       "      <td>NaN</td>\n",
       "    </tr>\n",
       "  </tbody>\n",
       "</table>\n",
       "</div>"
      ],
      "text/plain": [
       "   show_id                                              title  \\\n",
       "2     s194                     Disney My Music Story: Perfume   \n",
       "61   s1232                        NGÔI ĐỀN KỲ QUÁI  (Pee Nak)   \n",
       "62   s1233                                  VÔ GIAN ĐẠO (C18)   \n",
       "65   s1236               THẰNG EM LÝ TƯỞNG (Inseparable Bros)   \n",
       "69   s1240  (LT) DORAEMON: NOBITA VÀ MẶT TRĂNG PHIÊU LƯU K...   \n",
       "70   s1241                              LẬT MẶT: NHÀ CÓ KHÁCH   \n",
       "72   s1243                       NỤ HÔN MA QUÁI (Sang Krasue)   \n",
       "73   s1244  (PĐ) DORAEMON: NOBITA VÀ MẶT TRĂNG PHIÊU LƯU K...   \n",
       "75   s1246                                CÀ CHỚN ANH ĐỪNG ĐI   \n",
       "\n",
       "                             director  \\\n",
       "2                  Kentaro Takayanagi   \n",
       "61       Phontharis Chotkijsadarsopon   \n",
       "62                      Trần Việt Anh   \n",
       "65                      Yook Sang-hyo   \n",
       "69  Shinnosuke Yakuwa, Lee Jeong-beom   \n",
       "70                             Lý Hải   \n",
       "72               Sitisiri Mongkolsiri   \n",
       "73                  Yakuwa Shinnosuke   \n",
       "75                           Đỗ Cường   \n",
       "\n",
       "                                                 cast   country  release_year  \\\n",
       "2                         a-chan , KASHIYUKA , NOCCHi     Japan          2019   \n",
       "61  Chinawut Indracusin, Chutima Naina, Wachara Pa...  Thailand          2019   \n",
       "62                     La Thành, Xuân Nghị, Huỳnh Anh   Vietnam          2019   \n",
       "65                    Shin Ha Kyun,Lee Kwang Soo,Esom     Korea          2019   \n",
       "69  Wasabi Mizuta, Megumi Oohara, Yumi Kakazu, Tom...     Japan          2019   \n",
       "70                 Ly Hai, Huy Khanh, Thong, Jay Quan   Vietnam          2019   \n",
       "72  Phantira Pipityakorn, Oabnithi Wiwattanawarang...  Thailand          2019   \n",
       "73                                                NaN     Japan          2019   \n",
       "75           Kiều Trinh, Xuân Phúc, Đức Hải, Trang Hí   Vietnam          2019   \n",
       "\n",
       "   rating duration                         listed_in  \\\n",
       "2     NaN   53 min  Biographical, Documentary, Music   \n",
       "61    NaN  108 min                    Comedy, Horror   \n",
       "62    NaN  113 min           Comedy, Crime, Thriller   \n",
       "65    NaN  114 min                     Comedy, Drama   \n",
       "69    NaN  111 min      Animation, Action, Adventure   \n",
       "70    NaN  100 min                    Comedy, Horror   \n",
       "72    NaN  122 min            Drama, Horror, Romance   \n",
       "73    NaN      NaN                               NaN   \n",
       "75    NaN   90 min                           Romance   \n",
       "\n",
       "                                          description  Unnamed: 25  \n",
       "2   J-Pop band Perfume shares their passion for mu...          NaN  \n",
       "61  Three men on their way to monk-hood, don't rea...          NaN  \n",
       "62  Chay is a professional gambler. He and Dao, Th...          NaN  \n",
       "65  Se-Ha is intelligent, but confined to a wheelc...          NaN  \n",
       "69  Nobita saw a moon turned yellow last night and...          NaN  \n",
       "70  When a woman and her friends visit her home vi...          NaN  \n",
       "72  In a far-away village, lived an innocent teena...          NaN  \n",
       "73                                                NaN          NaN  \n",
       "75  Tue Nhi, who studied music composition, is hav...          NaN  "
      ]
     },
     "execution_count": 429,
     "metadata": {},
     "output_type": "execute_result"
    }
   ],
   "source": [
    "df_film_rating_null"
   ]
  },
  {
   "cell_type": "code",
   "execution_count": 430,
   "id": "aae6b737",
   "metadata": {},
   "outputs": [],
   "source": [
    "update_rating = {\n",
    "    'Disney My Music Story: Perfume': 'TV-G',\n",
    "    'NGÔI ĐỀN KỲ QUÁI  (Pee Nak)': 'PG-13',\n",
    "    'VÔ GIAN ĐẠO (C18)': 'C18',\n",
    "    \"THẰNG EM LÝ TƯỞNG (Inseparable Bros)\": 'PG-13',\n",
    "    \"(LT) DORAEMON: NOBITA VÀ MẶT TRĂNG PHIÊU LƯU KÝ (Doraemon: Nobita's Chronicle of the Moon Exploration)\": 'G',\n",
    "    'LẬT MẶT: NHÀ CÓ KHÁCH': 'C16',\n",
    "    'NỤ HÔN MA QUÁI (Sang Krasue)': 'PG-13',\n",
    "    '(PĐ) DORAEMON: NOBITA VÀ MẶT TRĂNG PHIÊU LƯU KÝ (G)': 'G',\n",
    "    'CÀ CHỚN ANH ĐỪNG ĐI': 'C13-C16'\n",
    "}"
   ]
  },
  {
   "cell_type": "code",
   "execution_count": 431,
   "id": "5d93b984",
   "metadata": {},
   "outputs": [],
   "source": [
    "for title, rating in update_rating.items():\n",
    "    df_film.loc[\n",
    "        (df_film['title'] == title) & (df_film['rating'].isnull()),\n",
    "        'rating'\n",
    "    ] = rating"
   ]
  },
  {
   "cell_type": "code",
   "execution_count": 432,
   "id": "ede276ee",
   "metadata": {},
   "outputs": [],
   "source": [
    "\n",
    "df_film_listed_in_null = df_film[df_film['listed_in'].isna()]"
   ]
  },
  {
   "cell_type": "code",
   "execution_count": 433,
   "id": "6779bbad",
   "metadata": {},
   "outputs": [
    {
     "data": {
      "text/html": [
       "<div>\n",
       "<style scoped>\n",
       "    .dataframe tbody tr th:only-of-type {\n",
       "        vertical-align: middle;\n",
       "    }\n",
       "\n",
       "    .dataframe tbody tr th {\n",
       "        vertical-align: top;\n",
       "    }\n",
       "\n",
       "    .dataframe thead th {\n",
       "        text-align: right;\n",
       "    }\n",
       "</style>\n",
       "<table border=\"1\" class=\"dataframe\">\n",
       "  <thead>\n",
       "    <tr style=\"text-align: right;\">\n",
       "      <th></th>\n",
       "      <th>show_id</th>\n",
       "      <th>title</th>\n",
       "      <th>director</th>\n",
       "      <th>cast</th>\n",
       "      <th>country</th>\n",
       "      <th>release_year</th>\n",
       "      <th>rating</th>\n",
       "      <th>duration</th>\n",
       "      <th>listed_in</th>\n",
       "      <th>description</th>\n",
       "      <th>Unnamed: 25</th>\n",
       "    </tr>\n",
       "  </thead>\n",
       "  <tbody>\n",
       "    <tr>\n",
       "      <th>73</th>\n",
       "      <td>s1244</td>\n",
       "      <td>(PĐ) DORAEMON: NOBITA VÀ MẶT TRĂNG PHIÊU LƯU K...</td>\n",
       "      <td>Yakuwa Shinnosuke</td>\n",
       "      <td>NaN</td>\n",
       "      <td>Japan</td>\n",
       "      <td>2019</td>\n",
       "      <td>G</td>\n",
       "      <td>NaN</td>\n",
       "      <td>NaN</td>\n",
       "      <td>NaN</td>\n",
       "      <td>NaN</td>\n",
       "    </tr>\n",
       "  </tbody>\n",
       "</table>\n",
       "</div>"
      ],
      "text/plain": [
       "   show_id                                              title  \\\n",
       "73   s1244  (PĐ) DORAEMON: NOBITA VÀ MẶT TRĂNG PHIÊU LƯU K...   \n",
       "\n",
       "             director cast country  release_year rating duration listed_in  \\\n",
       "73  Yakuwa Shinnosuke  NaN   Japan          2019      G      NaN       NaN   \n",
       "\n",
       "   description  Unnamed: 25  \n",
       "73         NaN          NaN  "
      ]
     },
     "execution_count": 433,
     "metadata": {},
     "output_type": "execute_result"
    }
   ],
   "source": [
    "df_film_listed_in_null"
   ]
  },
  {
   "cell_type": "code",
   "execution_count": 434,
   "id": "663b10fc",
   "metadata": {},
   "outputs": [],
   "source": [
    "# Bộ phim doraemon có thể loại: Animation, Action, Adventure\n",
    "df_film[['listed_in']] = df_film[['listed_in']].fillna('Animation, Action, Adventure')"
   ]
  },
  {
   "cell_type": "markdown",
   "id": "0b4fa90a",
   "metadata": {},
   "source": [
    "Còn một số cột bị thiếu nhưng chúng em nhận thấy nó không ảnh hưởng đến hành vi mua hàng của khách hàng, nên chúng tôi vẫn giữ nguyên và chỉ dùng những cột quan trọng của bộ data này."
   ]
  },
  {
   "cell_type": "markdown",
   "id": "7e224b54",
   "metadata": {},
   "source": [
    "Trước khi tiến hành feature engineering, để thuận tiện hơn cho việc visualize cũng như các bước phân tích sau đó, chúng em sẽ quyết định gộp 3 file lại thành 1 file final.\n",
    "\n",
    "Trong đó:\n",
    "- Bảng customer: Customerid là khóa chính merged với cột customerid bên bảng ticket\n",
    "- Bảng film: show_id là khóa chính và merged với cột show_id bên bảng ticket\n"
   ]
  },
  {
   "cell_type": "code",
   "execution_count": 435,
   "id": "8b1f0b29",
   "metadata": {},
   "outputs": [],
   "source": [
    "# Merged ticket với customer\n",
    "merged_ticket_customer = pd.merge(df_ticket,df_customer, left_on = 'customerid', right_on = 'Customerid',how = 'left')"
   ]
  },
  {
   "cell_type": "code",
   "execution_count": 436,
   "id": "571d8b53",
   "metadata": {},
   "outputs": [],
   "source": [
    "df_final = pd.merge(merged_ticket_customer,df_film, on = 'show_id',how = 'left' )"
   ]
  },
  {
   "cell_type": "code",
   "execution_count": 437,
   "id": "934f3519",
   "metadata": {},
   "outputs": [
    {
     "data": {
      "text/plain": [
       "orderid             0\n",
       "cashier             0\n",
       "saledate            0\n",
       "total               0\n",
       "customerid          0\n",
       "ticketcode          0\n",
       "date                0\n",
       "time                0\n",
       "slot                0\n",
       "room                0\n",
       "show_id             0\n",
       "slot type           0\n",
       "ticket type         0\n",
       "ticket price        0\n",
       "popcorn             0\n",
       "Customerid         95\n",
       "DOB                95\n",
       "Gender             95\n",
       "Address            95\n",
       "Phường/Đường       95\n",
       "Quận/Huyện         95\n",
       "Tỉnh               95\n",
       "Website            95\n",
       "job                95\n",
       "industry           95\n",
       "title               0\n",
       "director            0\n",
       "cast               49\n",
       "country             0\n",
       "release_year        0\n",
       "rating              0\n",
       "duration           49\n",
       "listed_in           0\n",
       "description        49\n",
       "Unnamed: 25     35378\n",
       "dtype: int64"
      ]
     },
     "execution_count": 437,
     "metadata": {},
     "output_type": "execute_result"
    }
   ],
   "source": [
    "df_final.isna().sum()"
   ]
  },
  {
   "cell_type": "markdown",
   "id": "db1338e5",
   "metadata": {},
   "source": [
    "Những cột Customerid, DOB, Gender,... như quan sát trên có số hàng miss value là như nhau, có thể do có thông tin vé mua nhưng mà không có thông tin khách hàng, số lượng missing value cũng không lớn, có tầm 95 hàng, rất ít so với 35378 quan sát, nên có thể loại bỏ các hàng này.\n",
    "\n",
    "Cùng với đó chúng em tiến hành loại bỏ những cột mà không cần dùng đến để tranh gây rối, khó quan sát.\n"
   ]
  },
  {
   "cell_type": "code",
   "execution_count": 438,
   "id": "648ba705",
   "metadata": {},
   "outputs": [],
   "source": [
    "columns_to_check = ['Customerid', 'DOB', 'Gender', 'Address', 'Phường/Đường',\n",
    "                    'Quận/Huyện', 'Tỉnh', 'Website', 'job', 'industry']\n",
    "\n",
    "df_final = df_final.dropna(subset=columns_to_check)\n"
   ]
  },
  {
   "cell_type": "code",
   "execution_count": 439,
   "id": "2a216c7f",
   "metadata": {},
   "outputs": [],
   "source": [
    "columns_to_drop = ['cast', 'release_year', 'duration', 'description', 'Unnamed: 25', 'Customerid','Website','Phường/Đường','Address']\n",
    "df_final.drop(columns=columns_to_drop, inplace=True)"
   ]
  },
  {
   "cell_type": "code",
   "execution_count": 440,
   "id": "27453c51",
   "metadata": {},
   "outputs": [
    {
     "data": {
      "text/plain": [
       "orderid         0\n",
       "cashier         0\n",
       "saledate        0\n",
       "total           0\n",
       "customerid      0\n",
       "ticketcode      0\n",
       "date            0\n",
       "time            0\n",
       "slot            0\n",
       "room            0\n",
       "show_id         0\n",
       "slot type       0\n",
       "ticket type     0\n",
       "ticket price    0\n",
       "popcorn         0\n",
       "DOB             0\n",
       "Gender          0\n",
       "Quận/Huyện      0\n",
       "Tỉnh            0\n",
       "job             0\n",
       "industry        0\n",
       "title           0\n",
       "director        0\n",
       "country         0\n",
       "rating          0\n",
       "listed_in       0\n",
       "dtype: int64"
      ]
     },
     "execution_count": 440,
     "metadata": {},
     "output_type": "execute_result"
    }
   ],
   "source": [
    "df_final.isna().sum()"
   ]
  },
  {
   "cell_type": "code",
   "execution_count": 441,
   "id": "802215b8",
   "metadata": {},
   "outputs": [
    {
     "data": {
      "text/plain": [
       "Tỉnh\n",
       "Đà Nẵng          34032\n",
       "Quảng Nam          796\n",
       "Huế                129\n",
       "Quảng Bình          71\n",
       "Quảng Trị           58\n",
       "Quảng Ngãi          47\n",
       "Gia Lai             20\n",
       "Hà Nội              18\n",
       "Hà Tĩnh             16\n",
       "Đắk Lắk             14\n",
       "Thanh Hóa           13\n",
       "Ninh Bình           11\n",
       "Kon Tum             11\n",
       "Bình Định           10\n",
       "Hồ Chí Minh         10\n",
       "Nghệ An              7\n",
       "Kiên Giang           4\n",
       "Bắc Giang            3\n",
       "Buôn Mê Thuộc        2\n",
       "Lạng Sơn             2\n",
       "Phú Yên              2\n",
       "Đồng Nai             2\n",
       "Thái Bình            2\n",
       "Dak Lak              2\n",
       "Yên Bái              1\n",
       "Name: count, dtype: int64"
      ]
     },
     "execution_count": 441,
     "metadata": {},
     "output_type": "execute_result"
    }
   ],
   "source": [
    "df_final['Tỉnh'].value_counts()"
   ]
  },
  {
   "cell_type": "markdown",
   "id": "f6601f64",
   "metadata": {},
   "source": [
    "Dữ liệu chủ yếu là từ Đà Nẵng, để có cái nhìn toàn diện hơn, xóa các tỉnh thành khác, chỉ giữ lại Đà Nẵng để xem doanh thu, xu hướng mua vé của khách hàng tại Đà Nẵng."
   ]
  },
  {
   "cell_type": "code",
   "execution_count": 442,
   "id": "9b9465c3",
   "metadata": {},
   "outputs": [],
   "source": [
    "df_final = df_final[df_final['Tỉnh'] == 'Đà Nẵng']"
   ]
  },
  {
   "cell_type": "code",
   "execution_count": null,
   "id": "0c4fcb65",
   "metadata": {},
   "outputs": [
    {
     "name": "stdout",
     "output_type": "stream",
     "text": [
      "<class 'pandas.core.frame.DataFrame'>\n",
      "Index: 34032 entries, 0 to 35377\n",
      "Data columns (total 29 columns):\n",
      " #   Column                Non-Null Count  Dtype         \n",
      "---  ------                --------------  -----         \n",
      " 0   orderid               34032 non-null  object        \n",
      " 1   cashier               34032 non-null  object        \n",
      " 2   saledate              34032 non-null  datetime64[ns]\n",
      " 3   total                 34032 non-null  int64         \n",
      " 4   customerid            34032 non-null  object        \n",
      " 5   ticketcode            34032 non-null  int64         \n",
      " 6   date                  34032 non-null  datetime64[ns]\n",
      " 7   time                  34032 non-null  datetime64[ns]\n",
      " 8   slot                  34032 non-null  object        \n",
      " 9   room                  34032 non-null  int64         \n",
      " 10  show_id               34032 non-null  object        \n",
      " 11  slot type             34032 non-null  object        \n",
      " 12  ticket type           34032 non-null  object        \n",
      " 13  ticket price          34032 non-null  int64         \n",
      " 14  popcorn               34032 non-null  object        \n",
      " 15  DOB                   34032 non-null  datetime64[ns]\n",
      " 16  Gender                34032 non-null  object        \n",
      " 17  Quận/Huyện            34032 non-null  object        \n",
      " 18  Tỉnh                  34032 non-null  object        \n",
      " 19  job                   34032 non-null  object        \n",
      " 20  industry              34032 non-null  object        \n",
      " 21  title                 34032 non-null  object        \n",
      " 22  director              34032 non-null  object        \n",
      " 23  country               34032 non-null  object        \n",
      " 24  rating                34032 non-null  object        \n",
      " 25  listed_in             34032 non-null  object        \n",
      " 26  Tuổi                  34032 non-null  int64         \n",
      " 27  Khoảng tuổi           34029 non-null  category      \n",
      " 28  Thời gian trong ngày  34032 non-null  object        \n",
      "dtypes: category(1), datetime64[ns](4), int64(5), object(19)\n",
      "memory usage: 7.6+ MB\n"
     ]
    }
   ],
   "source": [
    "df_final.info()"
   ]
  },
  {
   "cell_type": "markdown",
   "id": "afdcbfbf",
   "metadata": {},
   "source": [
    "Sau khi đã merge các bảng lại với nhau và cũng như đã xử ly dữ liệu, dữ liệu đã sẵn sàng được đưa vào phân tích, cũng như visualization."
   ]
  },
  {
   "cell_type": "markdown",
   "id": "dd9e45ef",
   "metadata": {},
   "source": [
    "## Feature Engineering"
   ]
  },
  {
   "cell_type": "code",
   "execution_count": 443,
   "id": "f7e4d52d",
   "metadata": {},
   "outputs": [
    {
     "data": {
      "text/html": [
       "<div>\n",
       "<style scoped>\n",
       "    .dataframe tbody tr th:only-of-type {\n",
       "        vertical-align: middle;\n",
       "    }\n",
       "\n",
       "    .dataframe tbody tr th {\n",
       "        vertical-align: top;\n",
       "    }\n",
       "\n",
       "    .dataframe thead th {\n",
       "        text-align: right;\n",
       "    }\n",
       "</style>\n",
       "<table border=\"1\" class=\"dataframe\">\n",
       "  <thead>\n",
       "    <tr style=\"text-align: right;\">\n",
       "      <th></th>\n",
       "      <th>orderid</th>\n",
       "      <th>cashier</th>\n",
       "      <th>saledate</th>\n",
       "      <th>total</th>\n",
       "      <th>customerid</th>\n",
       "      <th>ticketcode</th>\n",
       "      <th>date</th>\n",
       "      <th>time</th>\n",
       "      <th>slot</th>\n",
       "      <th>room</th>\n",
       "      <th>...</th>\n",
       "      <th>Gender</th>\n",
       "      <th>Quận/Huyện</th>\n",
       "      <th>Tỉnh</th>\n",
       "      <th>job</th>\n",
       "      <th>industry</th>\n",
       "      <th>title</th>\n",
       "      <th>director</th>\n",
       "      <th>country</th>\n",
       "      <th>rating</th>\n",
       "      <th>listed_in</th>\n",
       "    </tr>\n",
       "  </thead>\n",
       "  <tbody>\n",
       "    <tr>\n",
       "      <th>0</th>\n",
       "      <td>10006052019B0225</td>\n",
       "      <td>emp002</td>\n",
       "      <td>2019-05-06</td>\n",
       "      <td>90000</td>\n",
       "      <td>0000000014</td>\n",
       "      <td>20074925</td>\n",
       "      <td>2019-05-06</td>\n",
       "      <td>18:15:00</td>\n",
       "      <td>G04</td>\n",
       "      <td>3</td>\n",
       "      <td>...</td>\n",
       "      <td>Nữ</td>\n",
       "      <td>Thanh Khê</td>\n",
       "      <td>Đà Nẵng</td>\n",
       "      <td>student</td>\n",
       "      <td>computer</td>\n",
       "      <td>Marvel Studios' Avengers: Endgame</td>\n",
       "      <td>Anthony Russo, Joe Russo</td>\n",
       "      <td>United States</td>\n",
       "      <td>PG-13</td>\n",
       "      <td>Action-Adventure, Fantasy, Science Fiction</td>\n",
       "    </tr>\n",
       "    <tr>\n",
       "      <th>1</th>\n",
       "      <td>10006052019B0225</td>\n",
       "      <td>emp002</td>\n",
       "      <td>2019-05-06</td>\n",
       "      <td>90000</td>\n",
       "      <td>0000000014</td>\n",
       "      <td>20074924</td>\n",
       "      <td>2019-05-06</td>\n",
       "      <td>18:15:00</td>\n",
       "      <td>G03</td>\n",
       "      <td>3</td>\n",
       "      <td>...</td>\n",
       "      <td>Nữ</td>\n",
       "      <td>Thanh Khê</td>\n",
       "      <td>Đà Nẵng</td>\n",
       "      <td>student</td>\n",
       "      <td>computer</td>\n",
       "      <td>Marvel Studios' Avengers: Endgame</td>\n",
       "      <td>Anthony Russo, Joe Russo</td>\n",
       "      <td>United States</td>\n",
       "      <td>PG-13</td>\n",
       "      <td>Action-Adventure, Fantasy, Science Fiction</td>\n",
       "    </tr>\n",
       "    <tr>\n",
       "      <th>2</th>\n",
       "      <td>10022052019B0167</td>\n",
       "      <td>emp011</td>\n",
       "      <td>2019-05-22</td>\n",
       "      <td>90000</td>\n",
       "      <td>0000000034</td>\n",
       "      <td>20097042</td>\n",
       "      <td>2019-05-22</td>\n",
       "      <td>20:45:00</td>\n",
       "      <td>E04</td>\n",
       "      <td>2</td>\n",
       "      <td>...</td>\n",
       "      <td>Nam</td>\n",
       "      <td>Sơn Trà</td>\n",
       "      <td>Đà Nẵng</td>\n",
       "      <td>student</td>\n",
       "      <td>health service</td>\n",
       "      <td>JOHN WICK 3: CHUẨN BỊ CHIẾN TRANH (C18)</td>\n",
       "      <td>Chad Stahelski</td>\n",
       "      <td>United States</td>\n",
       "      <td>R</td>\n",
       "      <td>Action</td>\n",
       "    </tr>\n",
       "    <tr>\n",
       "      <th>3</th>\n",
       "      <td>10022052019B0167</td>\n",
       "      <td>emp011</td>\n",
       "      <td>2019-05-22</td>\n",
       "      <td>90000</td>\n",
       "      <td>0000000034</td>\n",
       "      <td>20097041</td>\n",
       "      <td>2019-05-22</td>\n",
       "      <td>20:45:00</td>\n",
       "      <td>E03</td>\n",
       "      <td>2</td>\n",
       "      <td>...</td>\n",
       "      <td>Nam</td>\n",
       "      <td>Sơn Trà</td>\n",
       "      <td>Đà Nẵng</td>\n",
       "      <td>student</td>\n",
       "      <td>health service</td>\n",
       "      <td>JOHN WICK 3: CHUẨN BỊ CHIẾN TRANH (C18)</td>\n",
       "      <td>Chad Stahelski</td>\n",
       "      <td>United States</td>\n",
       "      <td>R</td>\n",
       "      <td>Action</td>\n",
       "    </tr>\n",
       "    <tr>\n",
       "      <th>4</th>\n",
       "      <td>10130052019B0141</td>\n",
       "      <td>emp005</td>\n",
       "      <td>2019-05-30</td>\n",
       "      <td>90000</td>\n",
       "      <td>0000000034</td>\n",
       "      <td>20106761</td>\n",
       "      <td>2019-05-30</td>\n",
       "      <td>19:30:00</td>\n",
       "      <td>F04</td>\n",
       "      <td>1</td>\n",
       "      <td>...</td>\n",
       "      <td>Nam</td>\n",
       "      <td>Sơn Trà</td>\n",
       "      <td>Đà Nẵng</td>\n",
       "      <td>student</td>\n",
       "      <td>health service</td>\n",
       "      <td>NGÔI ĐỀN KỲ QUÁI  (Pee Nak)</td>\n",
       "      <td>Phontharis Chotkijsadarsopon</td>\n",
       "      <td>Thailand</td>\n",
       "      <td>PG-13</td>\n",
       "      <td>Comedy, Horror</td>\n",
       "    </tr>\n",
       "  </tbody>\n",
       "</table>\n",
       "<p>5 rows × 26 columns</p>\n",
       "</div>"
      ],
      "text/plain": [
       "            orderid cashier   saledate  total  customerid  ticketcode  \\\n",
       "0  10006052019B0225  emp002 2019-05-06  90000  0000000014    20074925   \n",
       "1  10006052019B0225  emp002 2019-05-06  90000  0000000014    20074924   \n",
       "2  10022052019B0167  emp011 2019-05-22  90000  0000000034    20097042   \n",
       "3  10022052019B0167  emp011 2019-05-22  90000  0000000034    20097041   \n",
       "4  10130052019B0141  emp005 2019-05-30  90000  0000000034    20106761   \n",
       "\n",
       "        date      time slot  room  ... Gender Quận/Huyện     Tỉnh      job  \\\n",
       "0 2019-05-06  18:15:00  G04     3  ...     Nữ  Thanh Khê  Đà Nẵng  student   \n",
       "1 2019-05-06  18:15:00  G03     3  ...     Nữ  Thanh Khê  Đà Nẵng  student   \n",
       "2 2019-05-22  20:45:00  E04     2  ...    Nam    Sơn Trà  Đà Nẵng  student   \n",
       "3 2019-05-22  20:45:00  E03     2  ...    Nam    Sơn Trà  Đà Nẵng  student   \n",
       "4 2019-05-30  19:30:00  F04     1  ...    Nam    Sơn Trà  Đà Nẵng  student   \n",
       "\n",
       "         industry                                    title  \\\n",
       "0        computer        Marvel Studios' Avengers: Endgame   \n",
       "1        computer        Marvel Studios' Avengers: Endgame   \n",
       "2  health service  JOHN WICK 3: CHUẨN BỊ CHIẾN TRANH (C18)   \n",
       "3  health service  JOHN WICK 3: CHUẨN BỊ CHIẾN TRANH (C18)   \n",
       "4  health service              NGÔI ĐỀN KỲ QUÁI  (Pee Nak)   \n",
       "\n",
       "                       director        country rating  \\\n",
       "0      Anthony Russo, Joe Russo  United States  PG-13   \n",
       "1      Anthony Russo, Joe Russo  United States  PG-13   \n",
       "2                Chad Stahelski  United States      R   \n",
       "3                Chad Stahelski  United States      R   \n",
       "4  Phontharis Chotkijsadarsopon       Thailand  PG-13   \n",
       "\n",
       "                                    listed_in  \n",
       "0  Action-Adventure, Fantasy, Science Fiction  \n",
       "1  Action-Adventure, Fantasy, Science Fiction  \n",
       "2                                      Action  \n",
       "3                                      Action  \n",
       "4                              Comedy, Horror  \n",
       "\n",
       "[5 rows x 26 columns]"
      ]
     },
     "execution_count": 443,
     "metadata": {},
     "output_type": "execute_result"
    }
   ],
   "source": [
    "df_final.head(5)"
   ]
  },
  {
   "cell_type": "markdown",
   "id": "18a9be77",
   "metadata": {},
   "source": [
    "Sau khi quan sát dữ liệu, có thể thêm một số cột sau:\n",
    "- Tuổi: tính tuổi khách hàng\n",
    "- Khoảng tuối, chia tuổi khách hàng thành nhiều nhóm tuổi khác nhau\n",
    "- Thời gian trong ngày, sáng, chiều"
   ]
  },
  {
   "cell_type": "code",
   "execution_count": 444,
   "id": "bc8a4faf",
   "metadata": {},
   "outputs": [],
   "source": [
    "# Đảm bảo cả 'DOB' và 'saledate' đều là kiểu datetime\n",
    "df_final['DOB'] = pd.to_datetime(df_final['DOB'], errors='coerce')\n",
    "df_final['saledate'] = pd.to_datetime(df_final['saledate'], errors='coerce')\n",
    "\n",
    "# Tính tuổi tại thời điểm mua hàng\n",
    "df_final['Tuổi'] = (df_final['saledate'] - df_final['DOB']).dt.days // 365\n"
   ]
  },
  {
   "cell_type": "code",
   "execution_count": null,
   "id": "21fbe20a",
   "metadata": {},
   "outputs": [],
   "source": [
    "df_final['time'] = pd.to_datetime(df_final['time'], format='%H:%M:%S', errors='coerce')\n",
    "df_final['Thời gian trong ngày'] = df_final['time'].dt.hour.apply(time_of_day)\n",
    "def time_of_day(hour):\n",
    "    if 5 <= hour < 12:\n",
    "        return 'Sáng'\n",
    "    elif 12 <= hour < 17:\n",
    "        return 'Chiều'\n",
    "    elif 17 <= hour < 21:\n",
    "        return 'Tối'\n",
    "    else:\n",
    "        return 'Đêm'\n",
    "\n",
    "df_final['Thời gian trong ngày'] = df_final['time'].dt.hour.apply(time_of_day)\n"
   ]
  },
  {
   "cell_type": "code",
   "execution_count": 458,
   "id": "c0577c2a",
   "metadata": {},
   "outputs": [
    {
     "data": {
      "text/plain": [
       "Tuổi\n",
       " 0     10137\n",
       " 18     8468\n",
       " 19     1432\n",
       " 20     1398\n",
       " 22     1393\n",
       " 21     1299\n",
       " 23     1171\n",
       " 24     1085\n",
       " 17      965\n",
       " 25      799\n",
       " 16      791\n",
       " 26      713\n",
       " 27      605\n",
       " 15      541\n",
       " 1       534\n",
       " 28      449\n",
       " 29      314\n",
       " 14      237\n",
       " 30      223\n",
       " 13      207\n",
       " 31      189\n",
       " 34      124\n",
       " 33       97\n",
       " 32       88\n",
       " 37       83\n",
       " 35       82\n",
       " 36       73\n",
       " 39       72\n",
       " 40       45\n",
       " 38       44\n",
       " 11       38\n",
       " 2        37\n",
       " 12       35\n",
       " 42       34\n",
       " 41       33\n",
       " 3        27\n",
       " 50       24\n",
       " 51       19\n",
       " 48       18\n",
       " 43       17\n",
       " 44       17\n",
       " 45       17\n",
       " 10       16\n",
       " 47       15\n",
       " 49        9\n",
       " 54        8\n",
       " 52        3\n",
       " 53        3\n",
       "-1         2\n",
       "-76        1\n",
       " 55        1\n",
       "Name: count, dtype: int64"
      ]
     },
     "execution_count": 458,
     "metadata": {},
     "output_type": "execute_result"
    }
   ],
   "source": [
    "df_final['Tuổi'].value_counts()"
   ]
  },
  {
   "cell_type": "code",
   "execution_count": 459,
   "id": "d2b244a6",
   "metadata": {},
   "outputs": [],
   "source": [
    "df_final = df_final[~df_final['Tuổi'].isin([-1, -76])]"
   ]
  },
  {
   "cell_type": "code",
   "execution_count": 467,
   "id": "3f3d8337",
   "metadata": {},
   "outputs": [
    {
     "data": {
      "text/plain": [
       "array(['teenager'], dtype=object)"
      ]
     },
     "execution_count": 467,
     "metadata": {},
     "output_type": "execute_result"
    }
   ],
   "source": [
    "df_tre = df_final[df_final['Tuổi'].isin([0,1,2,3])]\n",
    "df_tre['job'].unique()"
   ]
  },
  {
   "cell_type": "markdown",
   "id": "e1626e5f",
   "metadata": {},
   "source": [
    "Đang có sự sai lệch tuổi nghiêm trọng, các job là teenager nhưng vẫn có độ tuổi 0,1,2,3, tuy nhiên số lượng chúng khá lớn, nên cách tốt nhất là để những quan sát như vậy làm một nhóm tuổi riêng."
   ]
  },
  {
   "cell_type": "code",
   "execution_count": 461,
   "id": "5d328445",
   "metadata": {},
   "outputs": [],
   "source": [
    "def group_age(age):\n",
    "    if age == 0:\n",
    "        return '0 tuổi'\n",
    "    elif age == 1:\n",
    "        return '1 tuổi'\n",
    "    elif age == 2:\n",
    "        return '2 tuổi'\n",
    "    elif age == 3:\n",
    "        return '3 tuổi'\n",
    "    elif 4 <= age <= 11:\n",
    "        return 'Trẻ em (4-11)'\n",
    "    elif 12 <= age <= 17:\n",
    "        return 'Thiếu niên (12-17)'\n",
    "    elif 18 <= age <= 25:\n",
    "        return 'Thanh niên (18-25)'\n",
    "    elif 26 <= age <= 40:\n",
    "        return 'Trưởng thành (26-40)'\n",
    "    elif 41 <= age <= 60:\n",
    "        return 'Trung niên (41-60)'\n",
    "    else:\n",
    "        return 'Cao tuổi (trên 60)'\n",
    "df_final['Nhóm tuổi'] = df_final['Tuổi'].apply(group_age)\n"
   ]
  }
 ],
 "metadata": {
  "kernelspec": {
   "display_name": "Python 3",
   "language": "python",
   "name": "python3"
  },
  "language_info": {
   "codemirror_mode": {
    "name": "ipython",
    "version": 3
   },
   "file_extension": ".py",
   "mimetype": "text/x-python",
   "name": "python",
   "nbconvert_exporter": "python",
   "pygments_lexer": "ipython3",
   "version": "3.12.4"
  }
 },
 "nbformat": 4,
 "nbformat_minor": 5
}
